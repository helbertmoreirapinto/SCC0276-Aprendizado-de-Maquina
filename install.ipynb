{
 "cells": [
  {
   "cell_type": "code",
   "execution_count": 1,
   "metadata": {},
   "outputs": [
    {
     "name": "stdout",
     "output_type": "stream",
     "text": [
      "Defaulting to user installation because normal site-packages is not writeable\n",
      "Requirement already satisfied: pandas in c:\\programdata\\anaconda3\\envs\\machine-learning\\lib\\site-packages (from -r requirements.txt (line 1)) (1.4.2)\n",
      "Requirement already satisfied: openpyxl in c:\\users\\helbe\\appdata\\roaming\\python\\python39\\site-packages (from -r requirements.txt (line 2)) (3.0.10)\n",
      "Requirement already satisfied: matplotlib in c:\\programdata\\anaconda3\\envs\\machine-learning\\lib\\site-packages (from -r requirements.txt (line 3)) (3.5.1)\n",
      "Requirement already satisfied: seaborn in c:\\programdata\\anaconda3\\envs\\machine-learning\\lib\\site-packages (from -r requirements.txt (line 4)) (0.11.2)\n",
      "Requirement already satisfied: selenium in c:\\users\\helbe\\appdata\\roaming\\python\\python39\\site-packages (from -r requirements.txt (line 5)) (4.3.0)\n",
      "Requirement already satisfied: webdriver-manager in c:\\users\\helbe\\appdata\\roaming\\python\\python39\\site-packages (from -r requirements.txt (line 6)) (3.8.0)\n",
      "Requirement already satisfied: beautifulsoup4 in c:\\programdata\\anaconda3\\envs\\machine-learning\\lib\\site-packages (from -r requirements.txt (line 7)) (4.11.1)\n",
      "Requirement already satisfied: category_encoders in c:\\users\\helbe\\appdata\\roaming\\python\\python39\\site-packages (from -r requirements.txt (line 8)) (2.5.0)\n",
      "Requirement already satisfied: scikit-learn in c:\\users\\helbe\\appdata\\roaming\\python\\python39\\site-packages (from -r requirements.txt (line 9)) (1.1.1)\n",
      "Collecting lightgbm\n",
      "  Downloading lightgbm-3.3.2-py3-none-win_amd64.whl (1.0 MB)\n",
      "Collecting xgboost\n",
      "  Downloading xgboost-1.6.1-py3-none-win_amd64.whl (125.4 MB)\n",
      "Requirement already satisfied: python-dateutil>=2.8.1 in c:\\programdata\\anaconda3\\envs\\machine-learning\\lib\\site-packages (from pandas->-r requirements.txt (line 1)) (2.8.2)\n",
      "Requirement already satisfied: pytz>=2020.1 in c:\\programdata\\anaconda3\\envs\\machine-learning\\lib\\site-packages (from pandas->-r requirements.txt (line 1)) (2022.1)\n",
      "Requirement already satisfied: numpy>=1.18.5 in c:\\programdata\\anaconda3\\envs\\machine-learning\\lib\\site-packages (from pandas->-r requirements.txt (line 1)) (1.22.3)\n",
      "Requirement already satisfied: et-xmlfile in c:\\users\\helbe\\appdata\\roaming\\python\\python39\\site-packages (from openpyxl->-r requirements.txt (line 2)) (1.1.0)\n",
      "Requirement already satisfied: pyparsing>=2.2.1 in c:\\programdata\\anaconda3\\envs\\machine-learning\\lib\\site-packages (from matplotlib->-r requirements.txt (line 3)) (3.0.4)\n",
      "Requirement already satisfied: pillow>=6.2.0 in c:\\programdata\\anaconda3\\envs\\machine-learning\\lib\\site-packages (from matplotlib->-r requirements.txt (line 3)) (9.0.1)\n",
      "Requirement already satisfied: kiwisolver>=1.0.1 in c:\\programdata\\anaconda3\\envs\\machine-learning\\lib\\site-packages (from matplotlib->-r requirements.txt (line 3)) (1.4.2)\n",
      "Requirement already satisfied: cycler>=0.10 in c:\\programdata\\anaconda3\\envs\\machine-learning\\lib\\site-packages (from matplotlib->-r requirements.txt (line 3)) (0.11.0)\n",
      "Requirement already satisfied: packaging>=20.0 in c:\\programdata\\anaconda3\\envs\\machine-learning\\lib\\site-packages (from matplotlib->-r requirements.txt (line 3)) (21.3)\n",
      "Requirement already satisfied: fonttools>=4.22.0 in c:\\programdata\\anaconda3\\envs\\machine-learning\\lib\\site-packages (from matplotlib->-r requirements.txt (line 3)) (4.25.0)\n",
      "Requirement already satisfied: scipy>=1.0 in c:\\programdata\\anaconda3\\envs\\machine-learning\\lib\\site-packages (from seaborn->-r requirements.txt (line 4)) (1.7.3)\n",
      "Requirement already satisfied: trio-websocket~=0.9 in c:\\users\\helbe\\appdata\\roaming\\python\\python39\\site-packages (from selenium->-r requirements.txt (line 5)) (0.9.2)\n",
      "Requirement already satisfied: trio~=0.17 in c:\\users\\helbe\\appdata\\roaming\\python\\python39\\site-packages (from selenium->-r requirements.txt (line 5)) (0.21.0)\n",
      "Requirement already satisfied: urllib3[secure,socks]~=1.26 in c:\\programdata\\anaconda3\\envs\\machine-learning\\lib\\site-packages (from selenium->-r requirements.txt (line 5)) (1.26.9)\n",
      "Requirement already satisfied: pybrowsers in c:\\users\\helbe\\appdata\\roaming\\python\\python39\\site-packages (from webdriver-manager->-r requirements.txt (line 6)) (0.4.1)\n",
      "Requirement already satisfied: requests in c:\\programdata\\anaconda3\\envs\\machine-learning\\lib\\site-packages (from webdriver-manager->-r requirements.txt (line 6)) (2.28.0)\n",
      "Requirement already satisfied: python-dotenv in c:\\users\\helbe\\appdata\\roaming\\python\\python39\\site-packages (from webdriver-manager->-r requirements.txt (line 6)) (0.20.0)\n",
      "Requirement already satisfied: soupsieve>1.2 in c:\\programdata\\anaconda3\\envs\\machine-learning\\lib\\site-packages (from beautifulsoup4->-r requirements.txt (line 7)) (2.3.1)\n",
      "Requirement already satisfied: statsmodels>=0.9.0 in c:\\users\\helbe\\appdata\\roaming\\python\\python39\\site-packages (from category_encoders->-r requirements.txt (line 8)) (0.13.2)\n",
      "Requirement already satisfied: patsy>=0.5.1 in c:\\users\\helbe\\appdata\\roaming\\python\\python39\\site-packages (from category_encoders->-r requirements.txt (line 8)) (0.5.2)\n",
      "Requirement already satisfied: joblib>=1.0.0 in c:\\users\\helbe\\appdata\\roaming\\python\\python39\\site-packages (from scikit-learn->-r requirements.txt (line 9)) (1.1.0)\n",
      "Requirement already satisfied: threadpoolctl>=2.0.0 in c:\\users\\helbe\\appdata\\roaming\\python\\python39\\site-packages (from scikit-learn->-r requirements.txt (line 9)) (3.1.0)\n",
      "Requirement already satisfied: wheel in c:\\programdata\\anaconda3\\envs\\machine-learning\\lib\\site-packages (from lightgbm->-r requirements.txt (line 10)) (0.37.1)\n",
      "Requirement already satisfied: six in c:\\programdata\\anaconda3\\envs\\machine-learning\\lib\\site-packages (from patsy>=0.5.1->category_encoders->-r requirements.txt (line 8)) (1.16.0)\n",
      "Requirement already satisfied: sortedcontainers in c:\\users\\helbe\\appdata\\roaming\\python\\python39\\site-packages (from trio~=0.17->selenium->-r requirements.txt (line 5)) (2.4.0)\n",
      "Requirement already satisfied: outcome in c:\\users\\helbe\\appdata\\roaming\\python\\python39\\site-packages (from trio~=0.17->selenium->-r requirements.txt (line 5)) (1.2.0)\n",
      "Requirement already satisfied: sniffio in c:\\programdata\\anaconda3\\envs\\machine-learning\\lib\\site-packages (from trio~=0.17->selenium->-r requirements.txt (line 5)) (1.2.0)\n",
      "Requirement already satisfied: attrs>=19.2.0 in c:\\programdata\\anaconda3\\envs\\machine-learning\\lib\\site-packages (from trio~=0.17->selenium->-r requirements.txt (line 5)) (21.4.0)\n",
      "Requirement already satisfied: idna in c:\\programdata\\anaconda3\\envs\\machine-learning\\lib\\site-packages (from trio~=0.17->selenium->-r requirements.txt (line 5)) (3.3)\n",
      "Requirement already satisfied: cffi>=1.14 in c:\\programdata\\anaconda3\\envs\\machine-learning\\lib\\site-packages (from trio~=0.17->selenium->-r requirements.txt (line 5)) (1.15.0)\n",
      "Requirement already satisfied: async-generator>=1.9 in c:\\users\\helbe\\appdata\\roaming\\python\\python39\\site-packages (from trio~=0.17->selenium->-r requirements.txt (line 5)) (1.10)\n",
      "Requirement already satisfied: pycparser in c:\\programdata\\anaconda3\\envs\\machine-learning\\lib\\site-packages (from cffi>=1.14->trio~=0.17->selenium->-r requirements.txt (line 5)) (2.21)\n",
      "Requirement already satisfied: wsproto>=0.14 in c:\\users\\helbe\\appdata\\roaming\\python\\python39\\site-packages (from trio-websocket~=0.9->selenium->-r requirements.txt (line 5)) (1.1.0)\n",
      "Requirement already satisfied: cryptography>=1.3.4 in c:\\programdata\\anaconda3\\envs\\machine-learning\\lib\\site-packages (from urllib3[secure,socks]~=1.26->selenium->-r requirements.txt (line 5)) (37.0.1)\n",
      "Requirement already satisfied: certifi in c:\\programdata\\anaconda3\\envs\\machine-learning\\lib\\site-packages (from urllib3[secure,socks]~=1.26->selenium->-r requirements.txt (line 5)) (2022.6.15)\n",
      "Requirement already satisfied: pyOpenSSL>=0.14 in c:\\programdata\\anaconda3\\envs\\machine-learning\\lib\\site-packages (from urllib3[secure,socks]~=1.26->selenium->-r requirements.txt (line 5)) (22.0.0)\n",
      "Requirement already satisfied: PySocks!=1.5.7,<2.0,>=1.5.6 in c:\\programdata\\anaconda3\\envs\\machine-learning\\lib\\site-packages (from urllib3[secure,socks]~=1.26->selenium->-r requirements.txt (line 5)) (1.7.1)\n",
      "Requirement already satisfied: h11<1,>=0.9.0 in c:\\users\\helbe\\appdata\\roaming\\python\\python39\\site-packages (from wsproto>=0.14->trio-websocket~=0.9->selenium->-r requirements.txt (line 5)) (0.13.0)\n",
      "Requirement already satisfied: pywin32<304,>=303 in c:\\users\\helbe\\appdata\\roaming\\python\\python39\\site-packages (from pybrowsers->webdriver-manager->-r requirements.txt (line 6)) (303)\n",
      "Requirement already satisfied: charset-normalizer~=2.0.0 in c:\\programdata\\anaconda3\\envs\\machine-learning\\lib\\site-packages (from requests->webdriver-manager->-r requirements.txt (line 6)) (2.0.4)\n",
      "Installing collected packages: xgboost, lightgbm\n",
      "Successfully installed lightgbm-3.3.2 xgboost-1.6.1\n"
     ]
    }
   ],
   "source": [
    "!pip install -r requirements.txt"
   ]
  }
 ],
 "metadata": {
  "kernelspec": {
   "display_name": "Python 3.9.12 ('machine-learning')",
   "language": "python",
   "name": "python3"
  },
  "language_info": {
   "codemirror_mode": {
    "name": "ipython",
    "version": 3
   },
   "file_extension": ".py",
   "mimetype": "text/x-python",
   "name": "python",
   "nbconvert_exporter": "python",
   "pygments_lexer": "ipython3",
   "version": "3.9.12"
  },
  "orig_nbformat": 4,
  "vscode": {
   "interpreter": {
    "hash": "67feba2d08d7d2d3d2049c90e6d0af519e1d9fff8ed92e0200e968d7f52bef8b"
   }
  }
 },
 "nbformat": 4,
 "nbformat_minor": 2
}
