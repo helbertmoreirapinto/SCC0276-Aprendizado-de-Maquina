{
 "cells": [
  {
   "cell_type": "markdown",
   "metadata": {},
   "source": [
    "---\n",
    "### Preparando os dados"
   ]
  },
  {
   "cell_type": "markdown",
   "metadata": {},
   "source": [
    "#### Import da base com todas as variáveis"
   ]
  },
  {
   "cell_type": "code",
   "execution_count": 1,
   "metadata": {},
   "outputs": [
    {
     "data": {
      "text/html": [
       "<div>\n",
       "<style scoped>\n",
       "    .dataframe tbody tr th:only-of-type {\n",
       "        vertical-align: middle;\n",
       "    }\n",
       "\n",
       "    .dataframe tbody tr th {\n",
       "        vertical-align: top;\n",
       "    }\n",
       "\n",
       "    .dataframe thead th {\n",
       "        text-align: right;\n",
       "    }\n",
       "</style>\n",
       "<table border=\"1\" class=\"dataframe\">\n",
       "  <thead>\n",
       "    <tr style=\"text-align: right;\">\n",
       "      <th></th>\n",
       "      <th>qt_salas_utilizadas</th>\n",
       "      <th>qt_salas_utiliza_climatizadas</th>\n",
       "      <th>qt_equip_dvd</th>\n",
       "      <th>qt_equip_som</th>\n",
       "      <th>qt_equip_tv</th>\n",
       "      <th>qt_equip_lousa_digital</th>\n",
       "      <th>qt_equip_multimidia</th>\n",
       "      <th>qt_desktop_aluno</th>\n",
       "      <th>qt_comp_portatil_aluno</th>\n",
       "      <th>qt_tablet_aluno</th>\n",
       "      <th>...</th>\n",
       "      <th>in_prof_sim</th>\n",
       "      <th>in_prof_tec_sim</th>\n",
       "      <th>in_eja_sim</th>\n",
       "      <th>in_eja_fund_sim</th>\n",
       "      <th>in_eja_med_sim</th>\n",
       "      <th>in_esp_sim</th>\n",
       "      <th>in_esp_cc_sim</th>\n",
       "      <th>in_esp_ce_sim</th>\n",
       "      <th>tp_lingua_indigena</th>\n",
       "      <th>tp_lingua_portugues</th>\n",
       "    </tr>\n",
       "  </thead>\n",
       "  <tbody>\n",
       "    <tr>\n",
       "      <th>11024968</th>\n",
       "      <td>15</td>\n",
       "      <td>15</td>\n",
       "      <td>1</td>\n",
       "      <td>1</td>\n",
       "      <td>3</td>\n",
       "      <td>3</td>\n",
       "      <td>10</td>\n",
       "      <td>12</td>\n",
       "      <td>0</td>\n",
       "      <td>0</td>\n",
       "      <td>...</td>\n",
       "      <td>0</td>\n",
       "      <td>0</td>\n",
       "      <td>0</td>\n",
       "      <td>0</td>\n",
       "      <td>0</td>\n",
       "      <td>0</td>\n",
       "      <td>0</td>\n",
       "      <td>0</td>\n",
       "      <td>0</td>\n",
       "      <td>1</td>\n",
       "    </tr>\n",
       "    <tr>\n",
       "      <th>11025638</th>\n",
       "      <td>44</td>\n",
       "      <td>31</td>\n",
       "      <td>1</td>\n",
       "      <td>2</td>\n",
       "      <td>21</td>\n",
       "      <td>0</td>\n",
       "      <td>15</td>\n",
       "      <td>22</td>\n",
       "      <td>15</td>\n",
       "      <td>98</td>\n",
       "      <td>...</td>\n",
       "      <td>0</td>\n",
       "      <td>0</td>\n",
       "      <td>0</td>\n",
       "      <td>0</td>\n",
       "      <td>0</td>\n",
       "      <td>1</td>\n",
       "      <td>1</td>\n",
       "      <td>0</td>\n",
       "      <td>0</td>\n",
       "      <td>1</td>\n",
       "    </tr>\n",
       "    <tr>\n",
       "      <th>11006773</th>\n",
       "      <td>25</td>\n",
       "      <td>0</td>\n",
       "      <td>0</td>\n",
       "      <td>1</td>\n",
       "      <td>11</td>\n",
       "      <td>0</td>\n",
       "      <td>6</td>\n",
       "      <td>25</td>\n",
       "      <td>0</td>\n",
       "      <td>0</td>\n",
       "      <td>...</td>\n",
       "      <td>0</td>\n",
       "      <td>0</td>\n",
       "      <td>1</td>\n",
       "      <td>0</td>\n",
       "      <td>1</td>\n",
       "      <td>1</td>\n",
       "      <td>1</td>\n",
       "      <td>0</td>\n",
       "      <td>0</td>\n",
       "      <td>1</td>\n",
       "    </tr>\n",
       "    <tr>\n",
       "      <th>11006889</th>\n",
       "      <td>17</td>\n",
       "      <td>17</td>\n",
       "      <td>4</td>\n",
       "      <td>4</td>\n",
       "      <td>4</td>\n",
       "      <td>0</td>\n",
       "      <td>5</td>\n",
       "      <td>12</td>\n",
       "      <td>0</td>\n",
       "      <td>0</td>\n",
       "      <td>...</td>\n",
       "      <td>0</td>\n",
       "      <td>0</td>\n",
       "      <td>0</td>\n",
       "      <td>0</td>\n",
       "      <td>0</td>\n",
       "      <td>1</td>\n",
       "      <td>1</td>\n",
       "      <td>0</td>\n",
       "      <td>0</td>\n",
       "      <td>1</td>\n",
       "    </tr>\n",
       "    <tr>\n",
       "      <th>11007168</th>\n",
       "      <td>18</td>\n",
       "      <td>18</td>\n",
       "      <td>0</td>\n",
       "      <td>0</td>\n",
       "      <td>3</td>\n",
       "      <td>2</td>\n",
       "      <td>10</td>\n",
       "      <td>4</td>\n",
       "      <td>7</td>\n",
       "      <td>4</td>\n",
       "      <td>...</td>\n",
       "      <td>0</td>\n",
       "      <td>0</td>\n",
       "      <td>0</td>\n",
       "      <td>0</td>\n",
       "      <td>0</td>\n",
       "      <td>1</td>\n",
       "      <td>1</td>\n",
       "      <td>0</td>\n",
       "      <td>0</td>\n",
       "      <td>1</td>\n",
       "    </tr>\n",
       "  </tbody>\n",
       "</table>\n",
       "<p>5 rows × 219 columns</p>\n",
       "</div>"
      ],
      "text/plain": [
       "          qt_salas_utilizadas  qt_salas_utiliza_climatizadas  qt_equip_dvd  \\\n",
       "11024968                   15                             15             1   \n",
       "11025638                   44                             31             1   \n",
       "11006773                   25                              0             0   \n",
       "11006889                   17                             17             4   \n",
       "11007168                   18                             18             0   \n",
       "\n",
       "          qt_equip_som  qt_equip_tv  qt_equip_lousa_digital  \\\n",
       "11024968             1            3                       3   \n",
       "11025638             2           21                       0   \n",
       "11006773             1           11                       0   \n",
       "11006889             4            4                       0   \n",
       "11007168             0            3                       2   \n",
       "\n",
       "          qt_equip_multimidia  qt_desktop_aluno  qt_comp_portatil_aluno  \\\n",
       "11024968                   10                12                       0   \n",
       "11025638                   15                22                      15   \n",
       "11006773                    6                25                       0   \n",
       "11006889                    5                12                       0   \n",
       "11007168                   10                 4                       7   \n",
       "\n",
       "          qt_tablet_aluno  ...  in_prof_sim  in_prof_tec_sim  in_eja_sim  \\\n",
       "11024968                0  ...            0                0           0   \n",
       "11025638               98  ...            0                0           0   \n",
       "11006773                0  ...            0                0           1   \n",
       "11006889                0  ...            0                0           0   \n",
       "11007168                4  ...            0                0           0   \n",
       "\n",
       "          in_eja_fund_sim  in_eja_med_sim  in_esp_sim  in_esp_cc_sim  \\\n",
       "11024968                0               0           0              0   \n",
       "11025638                0               0           1              1   \n",
       "11006773                0               1           1              1   \n",
       "11006889                0               0           1              1   \n",
       "11007168                0               0           1              1   \n",
       "\n",
       "          in_esp_ce_sim  tp_lingua_indigena  tp_lingua_portugues  \n",
       "11024968              0                   0                    1  \n",
       "11025638              0                   0                    1  \n",
       "11006773              0                   0                    1  \n",
       "11006889              0                   0                    1  \n",
       "11007168              0                   0                    1  \n",
       "\n",
       "[5 rows x 219 columns]"
      ]
     },
     "execution_count": 1,
     "metadata": {},
     "output_type": "execute_result"
    }
   ],
   "source": [
    "import pandas as pd\n",
    "\n",
    "df = pd.read_csv('dados/final.csv',index_col=0)\n",
    "df.head()"
   ]
  },
  {
   "cell_type": "markdown",
   "metadata": {},
   "source": [
    "#### Divisão Variáveis Explicativas / Variável Resposta"
   ]
  },
  {
   "cell_type": "code",
   "execution_count": 2,
   "metadata": {},
   "outputs": [
    {
     "name": "stdout",
     "output_type": "stream",
     "text": [
      "(19022, 218) (19022, 1)\n"
     ]
    }
   ],
   "source": [
    "import numpy as np\n",
    "df = df.sample(frac=1)\n",
    "y = df[['nota enem']]\n",
    "X = df.drop(columns=['nota enem'])\n",
    "\n",
    "print(X.shape, y.shape)"
   ]
  },
  {
   "cell_type": "code",
   "execution_count": 3,
   "metadata": {},
   "outputs": [
    {
     "name": "stdout",
     "output_type": "stream",
     "text": [
      "Index(['qt_salas_utilizadas', 'qt_salas_utiliza_climatizadas', 'qt_equip_dvd',\n",
      "       'qt_equip_som', 'qt_equip_tv', 'qt_equip_lousa_digital',\n",
      "       'qt_equip_multimidia', 'qt_desktop_aluno', 'qt_comp_portatil_aluno',\n",
      "       'qt_tablet_aluno',\n",
      "       ...\n",
      "       'in_prof_sim', 'in_prof_tec_sim', 'in_eja_sim', 'in_eja_fund_sim',\n",
      "       'in_eja_med_sim', 'in_esp_sim', 'in_esp_cc_sim', 'in_esp_ce_sim',\n",
      "       'tp_lingua_indigena', 'tp_lingua_portugues'],\n",
      "      dtype='object', length=218)\n"
     ]
    }
   ],
   "source": [
    "pd.options.display.max_columns = 300\n",
    "print(X.columns)"
   ]
  },
  {
   "cell_type": "markdown",
   "metadata": {},
   "source": [
    "#### Normalização"
   ]
  },
  {
   "cell_type": "markdown",
   "metadata": {},
   "source": [
    "Como nossos dados possuem valores considerados outlier, e não esses outliers podem indicar algum tipo de relação, decidimos utilizar o RobustScaler para realizar a normalização."
   ]
  },
  {
   "cell_type": "code",
   "execution_count": 4,
   "metadata": {},
   "outputs": [
    {
     "name": "stdout",
     "output_type": "stream",
     "text": [
      "(19022, 218) (19022, 1)\n"
     ]
    }
   ],
   "source": [
    "from sklearn.preprocessing import RobustScaler\n",
    "\n",
    "scaler_X, scaler_y = RobustScaler(), RobustScaler()\n",
    "scaler_X.fit(X)\n",
    "scaler_y.fit(y)\n",
    "\n",
    "X_norm, y_norm = scaler_X.transform(X), scaler_y.transform(y)\n",
    "X, y = pd.DataFrame(X_norm, columns=X.columns), pd.DataFrame(y_norm, columns=y.columns)\n",
    "\n",
    "X, y = np.array(X), np.array(y)\n",
    "print(X.shape, y.shape)"
   ]
  },
  {
   "cell_type": "markdown",
   "metadata": {},
   "source": [
    "#### Divisão Treino / Teste"
   ]
  },
  {
   "cell_type": "code",
   "execution_count": 5,
   "metadata": {},
   "outputs": [
    {
     "name": "stdout",
     "output_type": "stream",
     "text": [
      "Dados Treino (13315, 218) (13315, 1)\n",
      "Dados Teste (5707, 218) (5707, 1)\n"
     ]
    }
   ],
   "source": [
    "from sklearn.model_selection import train_test_split\n",
    "\n",
    "X_train, X_test, y_train, y_test = train_test_split(X, y, shuffle=True, train_size=0.7, random_state=42)\n",
    "print('Dados Treino', X_train.shape, y_train.shape)\n",
    "print('Dados Teste', X_test.shape, y_test.shape)"
   ]
  },
  {
   "cell_type": "markdown",
   "metadata": {},
   "source": [
    "---\n",
    "### Modelo - Ridge"
   ]
  },
  {
   "cell_type": "code",
   "execution_count": 6,
   "metadata": {},
   "outputs": [
    {
     "name": "stdout",
     "output_type": "stream",
     "text": [
      "MAE:0.30974285733061946    MSE:0.17048411025003377    R2:0.7753556236537882\n"
     ]
    }
   ],
   "source": [
    "from sklearn.linear_model import Ridge\n",
    "from sklearn.metrics import mean_absolute_error, mean_squared_error, r2_score\n",
    "\n",
    "model = Ridge()\n",
    "model.fit(X_train, y_train)\n",
    "\n",
    "y_pred = model.predict(X_test)\n",
    "MAE = mean_absolute_error(y_pred=y_pred, y_true=y_test)\n",
    "MSE = mean_squared_error(y_pred=y_pred, y_true=y_test)\n",
    "R2 = r2_score(y_pred=y_pred, y_true=y_test)\n",
    "print(f'MAE:{MAE}    MSE:{MSE}    R2:{R2}')"
   ]
  },
  {
   "cell_type": "code",
   "execution_count": 7,
   "metadata": {},
   "outputs": [
    {
     "name": "stdout",
     "output_type": "stream",
     "text": [
      "[-0.30315079 -0.30823456 -0.3061251  -0.31611158 -0.36441121 -0.30399576\n",
      " -0.31359403 -0.3052551  -0.2978458  -0.30416329]\n",
      "[-0.16511184 -0.1634745  -0.15835135 -0.1739074  -7.70044954 -0.16968431\n",
      " -0.17798866 -0.16174233 -0.15437362 -0.16347345]\n"
     ]
    }
   ],
   "source": [
    "from sklearn.linear_model import Ridge\n",
    "from sklearn.model_selection import cross_validate\n",
    "\n",
    "model = Ridge()\n",
    "cv_results = cross_validate(estimator=model, X=X, y=y, cv=10, n_jobs=-1, return_train_score=True, \n",
    "    scoring=('neg_mean_absolute_error', 'neg_mean_squared_error'))\n",
    "\n",
    "print(cv_results['test_neg_mean_absolute_error'])\n",
    "print(cv_results['test_neg_mean_squared_error'])"
   ]
  },
  {
   "cell_type": "markdown",
   "metadata": {},
   "source": [
    "---\n",
    "### Modelo - Elastic Net"
   ]
  },
  {
   "cell_type": "code",
   "execution_count": 8,
   "metadata": {},
   "outputs": [
    {
     "name": "stdout",
     "output_type": "stream",
     "text": [
      "MAE:0.6355738883301159    MSE:0.6859695984552339    R2:0.09610806302456099\n",
      "Index(['qt_equip_multimidia', 'qt_comp_portatil_aluno', 'qt_tablet_aluno',\n",
      "       'qt_prof_administrativos', 'qt_prof_bibliotecario', 'qt_prof_saude',\n",
      "       'qt_prof_seguranca', 'qt_prof_monitores', 'qt_doc_eja', 'qt_tur_prof',\n",
      "       'qt_tur_prof_tec'],\n",
      "      dtype='object')\n",
      "Indices das variaveis com coeficientes não zerados {}\n"
     ]
    }
   ],
   "source": [
    "from sklearn.linear_model import ElasticNet\n",
    "from sklearn.metrics import mean_absolute_error, mean_squared_error, r2_score\n",
    "\n",
    "model = ElasticNet()\n",
    "model.fit(X_train, y_train)\n",
    "\n",
    "y_pred = model.predict(X_test)\n",
    "MAE = mean_absolute_error(y_pred=y_pred, y_true=y_test)\n",
    "MSE = mean_squared_error(y_pred=y_pred, y_true=y_test)\n",
    "R2 = r2_score(y_pred=y_pred, y_true=y_test)\n",
    "print(f'MAE:{MAE}    MSE:{MSE}    R2:{R2}')\n",
    "\n",
    "print(df.columns[np.where(np.abs(model.coef_) > 0)])\n",
    "print('Indices das variaveis com coeficientes não zerados {}')"
   ]
  },
  {
   "cell_type": "code",
   "execution_count": 9,
   "metadata": {},
   "outputs": [
    {
     "name": "stdout",
     "output_type": "stream",
     "text": [
      "[-0.63906317 -0.63251279 -0.6378395  -0.64023167 -0.63792826 -0.6359887\n",
      " -0.65956708 -0.64175679 -0.63775149 -0.62957085]\n",
      "[-0.6756713  -0.67000112 -0.66689043 -0.69117833 -0.69162331 -0.69023396\n",
      " -0.72510635 -0.67941952 -0.66030681 -0.67626878]\n"
     ]
    }
   ],
   "source": [
    "from sklearn.linear_model import ElasticNet\n",
    "from sklearn.model_selection import cross_validate\n",
    "\n",
    "model = ElasticNet()\n",
    "cv_results = cross_validate(estimator=model, X=X, y=y, cv=10, n_jobs=-1, return_train_score=True, \n",
    "    scoring=('neg_mean_absolute_error', 'neg_mean_squared_error'))\n",
    "\n",
    "print(cv_results['test_neg_mean_absolute_error'])\n",
    "print(cv_results['test_neg_mean_squared_error'])"
   ]
  },
  {
   "cell_type": "markdown",
   "metadata": {},
   "source": [
    "---\n",
    "### Modelo - Lasso"
   ]
  },
  {
   "cell_type": "code",
   "execution_count": 10,
   "metadata": {},
   "outputs": [
    {
     "name": "stdout",
     "output_type": "stream",
     "text": [
      "MAE:0.6607944475925429    MSE:0.7356299032766539    R2:0.03067141799406936\n",
      "Index(['qt_comp_portatil_aluno', 'qt_tablet_aluno', 'qt_prof_saude',\n",
      "       'qt_prof_seguranca', 'qt_prof_monitores', 'qt_doc_eja'],\n",
      "      dtype='object')\n",
      "Indices das variaveis com coeficientes não zerados {}\n"
     ]
    }
   ],
   "source": [
    "from sklearn.linear_model import Lasso\n",
    "from sklearn.metrics import mean_absolute_error, mean_squared_error, r2_score\n",
    "\n",
    "model = Lasso()\n",
    "model.fit(X_train, y_train)\n",
    "\n",
    "y_pred = model.predict(X_test)\n",
    "MAE = mean_absolute_error(y_pred=y_pred, y_true=y_test)\n",
    "MSE = mean_squared_error(y_pred=y_pred, y_true=y_test)\n",
    "R2 = r2_score(y_pred=y_pred, y_true=y_test)\n",
    "print(f'MAE:{MAE}    MSE:{MSE}    R2:{R2}')\n",
    "\n",
    "print(df.columns[np.where(np.abs(model.coef_) > 0)])\n",
    "print('Indices das variaveis com coeficientes não zerados {}')"
   ]
  },
  {
   "cell_type": "code",
   "execution_count": 11,
   "metadata": {},
   "outputs": [
    {
     "name": "stdout",
     "output_type": "stream",
     "text": [
      "[-0.63906317 -0.63251279 -0.6378395  -0.64023167 -0.63792826 -0.6359887\n",
      " -0.65956708 -0.64175679 -0.63775149 -0.62957085]\n",
      "[-0.6756713  -0.67000112 -0.66689043 -0.69117833 -0.69162331 -0.69023396\n",
      " -0.72510635 -0.67941952 -0.66030681 -0.67626878]\n"
     ]
    }
   ],
   "source": [
    "from sklearn.linear_model import ElasticNet\n",
    "from sklearn.model_selection import cross_validate\n",
    "\n",
    "model = ElasticNet()\n",
    "cv_results = cross_validate(estimator=model, X=X, y=y, cv=10, n_jobs=-1, return_train_score=True, \n",
    "    scoring=('neg_mean_absolute_error', 'neg_mean_squared_error'))\n",
    "\n",
    "print(cv_results['test_neg_mean_absolute_error'])\n",
    "print(cv_results['test_neg_mean_squared_error'])"
   ]
  },
  {
   "cell_type": "markdown",
   "metadata": {},
   "source": [
    "---\n",
    "### Modelo - Regressão Linear"
   ]
  },
  {
   "cell_type": "code",
   "execution_count": 12,
   "metadata": {},
   "outputs": [
    {
     "name": "stdout",
     "output_type": "stream",
     "text": [
      "MAE:0.30984762228399887    MSE:0.1706591374296615    R2:0.7751249929424954\n"
     ]
    }
   ],
   "source": [
    "from sklearn.linear_model import LinearRegression\n",
    "from sklearn.metrics import mean_absolute_error, mean_squared_error, r2_score\n",
    "\n",
    "model = LinearRegression()\n",
    "model.fit(X_train, y_train)\n",
    "\n",
    "y_pred = model.predict(X_test)\n",
    "MAE = mean_absolute_error(y_pred=y_pred, y_true=y_test)\n",
    "MSE = mean_squared_error(y_pred=y_pred, y_true=y_test)\n",
    "R2 = r2_score(y_pred=y_pred, y_true=y_test)\n",
    "print(f'MAE:{MAE}    MSE:{MSE}    R2:{R2}')"
   ]
  },
  {
   "cell_type": "code",
   "execution_count": 13,
   "metadata": {},
   "outputs": [
    {
     "name": "stdout",
     "output_type": "stream",
     "text": [
      "[-0.30329332 -0.30860724 -0.30631918 -0.31619375 -0.36452795 -0.30411833\n",
      " -0.31366691 -0.30521076 -0.29808923 -0.30468195]\n",
      "[-0.16526499 -0.16400377 -0.15855883 -0.17412914 -7.70813133 -0.16968012\n",
      " -0.1779659  -0.16167925 -0.15470435 -0.16446078]\n"
     ]
    }
   ],
   "source": [
    "from sklearn.linear_model import LinearRegression\n",
    "from sklearn.model_selection import cross_validate\n",
    "\n",
    "model = LinearRegression()\n",
    "cv_results = cross_validate(estimator=model, X=X, y=y, cv=10, n_jobs=-1, return_train_score=True, \n",
    "    scoring=('neg_mean_absolute_error', 'neg_mean_squared_error'))\n",
    "\n",
    "print(cv_results['test_neg_mean_absolute_error'])\n",
    "print(cv_results['test_neg_mean_squared_error'])"
   ]
  }
 ],
 "metadata": {
  "kernelspec": {
   "display_name": "Python 3.9.12 ('machine-learning')",
   "language": "python",
   "name": "python3"
  },
  "language_info": {
   "codemirror_mode": {
    "name": "ipython",
    "version": 3
   },
   "file_extension": ".py",
   "mimetype": "text/x-python",
   "name": "python",
   "nbconvert_exporter": "python",
   "pygments_lexer": "ipython3",
   "version": "3.9.12"
  },
  "orig_nbformat": 4,
  "vscode": {
   "interpreter": {
    "hash": "67feba2d08d7d2d3d2049c90e6d0af519e1d9fff8ed92e0200e968d7f52bef8b"
   }
  }
 },
 "nbformat": 4,
 "nbformat_minor": 2
}
