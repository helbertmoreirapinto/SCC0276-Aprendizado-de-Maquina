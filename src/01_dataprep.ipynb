{
 "cells": [
  {
   "cell_type": "markdown",
   "metadata": {},
   "source": [
    "---\n",
    "# SCC0270 - Aprendizado de maquina"
   ]
  },
  {
   "cell_type": "markdown",
   "metadata": {},
   "source": [
    "---\n",
    "## Projeto"
   ]
  },
  {
   "cell_type": "markdown",
   "metadata": {},
   "source": [
    "---\n",
    "### Integrantes\n"
   ]
  },
  {
   "cell_type": "markdown",
   "metadata": {},
   "source": [
    "10797781 - Antonio Sebastian  \n",
    "10716400 - Gabriell Tavares  \n",
    "10716504 - Helbert Pinto  "
   ]
  },
  {
   "cell_type": "code",
   "execution_count": 1,
   "metadata": {},
   "outputs": [],
   "source": [
    "from category_encoders.one_hot import OneHotEncoder\n",
    "from matplotlib import pyplot as plt\n",
    "from math import floor\n",
    "\n",
    "import pandas as pd\n",
    "import numpy as np\n",
    "import seaborn as sns"
   ]
  },
  {
   "cell_type": "markdown",
   "metadata": {},
   "source": [
    "---\n",
    "## Média de Alunos por Turma ##"
   ]
  },
  {
   "cell_type": "code",
   "execution_count": 2,
   "metadata": {},
   "outputs": [
    {
     "data": {
      "text/html": [
       "<div>\n",
       "<style scoped>\n",
       "    .dataframe tbody tr th:only-of-type {\n",
       "        vertical-align: middle;\n",
       "    }\n",
       "\n",
       "    .dataframe tbody tr th {\n",
       "        vertical-align: top;\n",
       "    }\n",
       "\n",
       "    .dataframe thead th {\n",
       "        text-align: right;\n",
       "    }\n",
       "</style>\n",
       "<table border=\"1\" class=\"dataframe\">\n",
       "  <thead>\n",
       "    <tr style=\"text-align: right;\">\n",
       "      <th></th>\n",
       "      <th>media alunos turma</th>\n",
       "    </tr>\n",
       "    <tr>\n",
       "      <th>cod inep</th>\n",
       "      <th></th>\n",
       "    </tr>\n",
       "  </thead>\n",
       "  <tbody>\n",
       "    <tr>\n",
       "      <th>11024968</th>\n",
       "      <td>28.1</td>\n",
       "    </tr>\n",
       "    <tr>\n",
       "      <th>11025638</th>\n",
       "      <td>15.3</td>\n",
       "    </tr>\n",
       "    <tr>\n",
       "      <th>11037962</th>\n",
       "      <td>8.0</td>\n",
       "    </tr>\n",
       "    <tr>\n",
       "      <th>11038373</th>\n",
       "      <td>7.0</td>\n",
       "    </tr>\n",
       "    <tr>\n",
       "      <th>11046252</th>\n",
       "      <td>8.0</td>\n",
       "    </tr>\n",
       "  </tbody>\n",
       "</table>\n",
       "</div>"
      ],
      "text/plain": [
       "          media alunos turma\n",
       "cod inep                    \n",
       "11024968                28.1\n",
       "11025638                15.3\n",
       "11037962                 8.0\n",
       "11038373                 7.0\n",
       "11046252                 8.0"
      ]
     },
     "execution_count": 2,
     "metadata": {},
     "output_type": "execute_result"
    }
   ],
   "source": [
    "# lendo dataframe\n",
    "atu_df = pd.read_excel('../dados/ATU_ESCOLAS_2019.xlsx', header=8, usecols=[5, 25], names=['cod inep', 'media alunos turma'])\n",
    "\n",
    "# removendo todas escolas que não possuem ensino medio\n",
    "atu_df = atu_df.replace('--',np.nan)\n",
    "atu_df.dropna(inplace=True)\n",
    "\n",
    "# configurando tipo correto para os dados\n",
    "atu_df['cod inep'] = atu_df['cod inep'].astype('int64')\n",
    "atu_df['media alunos turma'] = atu_df['media alunos turma'].astype('float64')\n",
    "\n",
    "# configurando codigo da escola como indice\n",
    "atu_df.set_index('cod inep', drop=True, inplace=True)\n",
    "atu_df.head()"
   ]
  },
  {
   "cell_type": "code",
   "execution_count": 3,
   "metadata": {},
   "outputs": [
    {
     "data": {
      "text/plain": [
       "False"
      ]
     },
     "execution_count": 3,
     "metadata": {},
     "output_type": "execute_result"
    }
   ],
   "source": [
    "# verificando se há nulos na base\n",
    "any(atu_df.isna().sum() > 0)"
   ]
  },
  {
   "cell_type": "code",
   "execution_count": 4,
   "metadata": {},
   "outputs": [
    {
     "data": {
      "text/html": [
       "<div>\n",
       "<style scoped>\n",
       "    .dataframe tbody tr th:only-of-type {\n",
       "        vertical-align: middle;\n",
       "    }\n",
       "\n",
       "    .dataframe tbody tr th {\n",
       "        vertical-align: top;\n",
       "    }\n",
       "\n",
       "    .dataframe thead th {\n",
       "        text-align: right;\n",
       "    }\n",
       "</style>\n",
       "<table border=\"1\" class=\"dataframe\">\n",
       "  <thead>\n",
       "    <tr style=\"text-align: right;\">\n",
       "      <th></th>\n",
       "      <th>media alunos turma</th>\n",
       "    </tr>\n",
       "  </thead>\n",
       "  <tbody>\n",
       "    <tr>\n",
       "      <th>count</th>\n",
       "      <td>28836.000000</td>\n",
       "    </tr>\n",
       "    <tr>\n",
       "      <th>mean</th>\n",
       "      <td>26.648769</td>\n",
       "    </tr>\n",
       "    <tr>\n",
       "      <th>std</th>\n",
       "      <td>9.211435</td>\n",
       "    </tr>\n",
       "    <tr>\n",
       "      <th>min</th>\n",
       "      <td>1.000000</td>\n",
       "    </tr>\n",
       "    <tr>\n",
       "      <th>25%</th>\n",
       "      <td>21.000000</td>\n",
       "    </tr>\n",
       "    <tr>\n",
       "      <th>50%</th>\n",
       "      <td>27.700000</td>\n",
       "    </tr>\n",
       "    <tr>\n",
       "      <th>75%</th>\n",
       "      <td>33.000000</td>\n",
       "    </tr>\n",
       "    <tr>\n",
       "      <th>max</th>\n",
       "      <td>231.300000</td>\n",
       "    </tr>\n",
       "  </tbody>\n",
       "</table>\n",
       "</div>"
      ],
      "text/plain": [
       "       media alunos turma\n",
       "count        28836.000000\n",
       "mean            26.648769\n",
       "std              9.211435\n",
       "min              1.000000\n",
       "25%             21.000000\n",
       "50%             27.700000\n",
       "75%             33.000000\n",
       "max            231.300000"
      ]
     },
     "execution_count": 4,
     "metadata": {},
     "output_type": "execute_result"
    }
   ],
   "source": [
    "# estatisticas basicas para o conjunto de dados\n",
    "atu_df.describe()"
   ]
  },
  {
   "cell_type": "code",
   "execution_count": 5,
   "metadata": {},
   "outputs": [
    {
     "data": {
      "image/png": "[encoded data removed]",
      "text/plain": [
       "<Figure size 1080x576 with 2 Axes>"
      ]
     },
     "metadata": {
      "needs_background": "light"
     },
     "output_type": "display_data"
    }
   ],
   "source": [
    "# graficos para visualizar a distribuição dos dados\n",
    "fig, axs = plt.subplots(1, 2)\n",
    "fig.suptitle('Média de alunos por turma')\n",
    "fig.set_figheight(8)\n",
    "fig.set_figwidth(15)\n",
    "\n",
    "sns.boxplot( ax=axs[0], data=atu_df, y='media alunos turma')\n",
    "sns.histplot(ax=axs[1], data=atu_df['media alunos turma'],bins=20)\n",
    "\n",
    "plt.show()"
   ]
  },
  {
   "cell_type": "markdown",
   "metadata": {},
   "source": [
    "---\n",
    "## Média de Horas-Aula diárias ##"
   ]
  },
  {
   "cell_type": "code",
   "execution_count": 6,
   "metadata": {},
   "outputs": [
    {
     "data": {
      "text/html": [
       "<div>\n",
       "<style scoped>\n",
       "    .dataframe tbody tr th:only-of-type {\n",
       "        vertical-align: middle;\n",
       "    }\n",
       "\n",
       "    .dataframe tbody tr th {\n",
       "        vertical-align: top;\n",
       "    }\n",
       "\n",
       "    .dataframe thead th {\n",
       "        text-align: right;\n",
       "    }\n",
       "</style>\n",
       "<table border=\"1\" class=\"dataframe\">\n",
       "  <thead>\n",
       "    <tr style=\"text-align: right;\">\n",
       "      <th></th>\n",
       "      <th>media hora-aula diaria</th>\n",
       "    </tr>\n",
       "    <tr>\n",
       "      <th>cod inep</th>\n",
       "      <th></th>\n",
       "    </tr>\n",
       "  </thead>\n",
       "  <tbody>\n",
       "    <tr>\n",
       "      <th>11024968</th>\n",
       "      <td>9.5</td>\n",
       "    </tr>\n",
       "    <tr>\n",
       "      <th>11025638</th>\n",
       "      <td>3.9</td>\n",
       "    </tr>\n",
       "    <tr>\n",
       "      <th>11037962</th>\n",
       "      <td>4.0</td>\n",
       "    </tr>\n",
       "    <tr>\n",
       "      <th>11038373</th>\n",
       "      <td>4.0</td>\n",
       "    </tr>\n",
       "    <tr>\n",
       "      <th>11046252</th>\n",
       "      <td>4.0</td>\n",
       "    </tr>\n",
       "  </tbody>\n",
       "</table>\n",
       "</div>"
      ],
      "text/plain": [
       "          media hora-aula diaria\n",
       "cod inep                        \n",
       "11024968                     9.5\n",
       "11025638                     3.9\n",
       "11037962                     4.0\n",
       "11038373                     4.0\n",
       "11046252                     4.0"
      ]
     },
     "execution_count": 6,
     "metadata": {},
     "output_type": "execute_result"
    }
   ],
   "source": [
    "# lendo dataframe\n",
    "had_df = pd.read_excel('../dados/HAD_ESCOLAS_2019.xlsx', header=8, usecols=[5, 24], names=['cod inep', 'media hora-aula diaria'])\n",
    "\n",
    "# removendo escolas que não possuem ensino medio\n",
    "had_df = had_df.replace('--',np.nan)\n",
    "had_df.dropna(inplace=True)\n",
    "\n",
    "# configurando tipo correto para os dados\n",
    "had_df['cod inep'] = had_df['cod inep'].astype('int64')\n",
    "had_df['media hora-aula diaria'] = had_df['media hora-aula diaria'].astype('float64')\n",
    "\n",
    "# configurando codigo da escola como indice\n",
    "had_df.set_index('cod inep', drop=True, inplace=True)\n",
    "\n",
    "had_df.head()"
   ]
  },
  {
   "cell_type": "code",
   "execution_count": 7,
   "metadata": {},
   "outputs": [
    {
     "data": {
      "text/plain": [
       "False"
      ]
     },
     "execution_count": 7,
     "metadata": {},
     "output_type": "execute_result"
    }
   ],
   "source": [
    "# verificando se há nulos na base\n",
    "any(had_df.isna().sum() > 0)"
   ]
  },
  {
   "cell_type": "code",
   "execution_count": 8,
   "metadata": {},
   "outputs": [
    {
     "data": {
      "text/html": [
       "<div>\n",
       "<style scoped>\n",
       "    .dataframe tbody tr th:only-of-type {\n",
       "        vertical-align: middle;\n",
       "    }\n",
       "\n",
       "    .dataframe tbody tr th {\n",
       "        vertical-align: top;\n",
       "    }\n",
       "\n",
       "    .dataframe thead th {\n",
       "        text-align: right;\n",
       "    }\n",
       "</style>\n",
       "<table border=\"1\" class=\"dataframe\">\n",
       "  <thead>\n",
       "    <tr style=\"text-align: right;\">\n",
       "      <th></th>\n",
       "      <th>media hora-aula diaria</th>\n",
       "    </tr>\n",
       "  </thead>\n",
       "  <tbody>\n",
       "    <tr>\n",
       "      <th>count</th>\n",
       "      <td>28833.000000</td>\n",
       "    </tr>\n",
       "    <tr>\n",
       "      <th>mean</th>\n",
       "      <td>5.199327</td>\n",
       "    </tr>\n",
       "    <tr>\n",
       "      <th>std</th>\n",
       "      <td>1.441634</td>\n",
       "    </tr>\n",
       "    <tr>\n",
       "      <th>min</th>\n",
       "      <td>1.700000</td>\n",
       "    </tr>\n",
       "    <tr>\n",
       "      <th>25%</th>\n",
       "      <td>4.300000</td>\n",
       "    </tr>\n",
       "    <tr>\n",
       "      <th>50%</th>\n",
       "      <td>5.000000</td>\n",
       "    </tr>\n",
       "    <tr>\n",
       "      <th>75%</th>\n",
       "      <td>5.300000</td>\n",
       "    </tr>\n",
       "    <tr>\n",
       "      <th>max</th>\n",
       "      <td>16.500000</td>\n",
       "    </tr>\n",
       "  </tbody>\n",
       "</table>\n",
       "</div>"
      ],
      "text/plain": [
       "       media hora-aula diaria\n",
       "count            28833.000000\n",
       "mean                 5.199327\n",
       "std                  1.441634\n",
       "min                  1.700000\n",
       "25%                  4.300000\n",
       "50%                  5.000000\n",
       "75%                  5.300000\n",
       "max                 16.500000"
      ]
     },
     "execution_count": 8,
     "metadata": {},
     "output_type": "execute_result"
    }
   ],
   "source": [
    "# estatisticas basicas para o conjunto de dados\n",
    "had_df.describe()"
   ]
  },
  {
   "cell_type": "code",
   "execution_count": 9,
   "metadata": {},
   "outputs": [
    {
     "data": {
      "image/png": "[encoded data removed]",
      "text/plain": [
       "<Figure size 1080x576 with 2 Axes>"
      ]
     },
     "metadata": {
      "needs_background": "light"
     },
     "output_type": "display_data"
    }
   ],
   "source": [
    "# graficos para visualizar a distribuição dos dados\n",
    "fig, axs = plt.subplots(1, 2)\n",
    "fig.suptitle('Média de horas-aula por dia')\n",
    "fig.set_figheight(8)\n",
    "fig.set_figwidth(15)\n",
    "\n",
    "sns.boxplot(ax=axs[0], data=had_df, y='media hora-aula diaria')\n",
    "sns.histplot(ax=axs[1], data=had_df['media hora-aula diaria'],bins=20)\n",
    "\n",
    "plt.show()"
   ]
  },
  {
   "cell_type": "markdown",
   "metadata": {},
   "source": [
    "---\n",
    "## Taxa Distorção Idade ##"
   ]
  },
  {
   "cell_type": "code",
   "execution_count": 10,
   "metadata": {},
   "outputs": [
    {
     "data": {
      "text/html": [
       "<div>\n",
       "<style scoped>\n",
       "    .dataframe tbody tr th:only-of-type {\n",
       "        vertical-align: middle;\n",
       "    }\n",
       "\n",
       "    .dataframe tbody tr th {\n",
       "        vertical-align: top;\n",
       "    }\n",
       "\n",
       "    .dataframe thead th {\n",
       "        text-align: right;\n",
       "    }\n",
       "</style>\n",
       "<table border=\"1\" class=\"dataframe\">\n",
       "  <thead>\n",
       "    <tr style=\"text-align: right;\">\n",
       "      <th></th>\n",
       "      <th>taxa distorcao idade serie</th>\n",
       "    </tr>\n",
       "    <tr>\n",
       "      <th>cod inep</th>\n",
       "      <th></th>\n",
       "    </tr>\n",
       "  </thead>\n",
       "  <tbody>\n",
       "    <tr>\n",
       "      <th>11024968</th>\n",
       "      <td>9.1</td>\n",
       "    </tr>\n",
       "    <tr>\n",
       "      <th>11025638</th>\n",
       "      <td>28.4</td>\n",
       "    </tr>\n",
       "    <tr>\n",
       "      <th>11037962</th>\n",
       "      <td>100.0</td>\n",
       "    </tr>\n",
       "    <tr>\n",
       "      <th>11038373</th>\n",
       "      <td>95.2</td>\n",
       "    </tr>\n",
       "    <tr>\n",
       "      <th>11046252</th>\n",
       "      <td>75.0</td>\n",
       "    </tr>\n",
       "  </tbody>\n",
       "</table>\n",
       "</div>"
      ],
      "text/plain": [
       "          taxa distorcao idade serie\n",
       "cod inep                            \n",
       "11024968                         9.1\n",
       "11025638                        28.4\n",
       "11037962                       100.0\n",
       "11038373                        95.2\n",
       "11046252                        75.0"
      ]
     },
     "execution_count": 10,
     "metadata": {},
     "output_type": "execute_result"
    }
   ],
   "source": [
    "# lendo dataframe\n",
    "tdi_df = pd.read_excel('../dados/TDI_ESCOLAS_2019.xlsx', header=8, usecols=[5, 21], names=['cod inep', 'taxa distorcao idade serie'])\n",
    "\n",
    "# removendo escolas que não possuem ensino medio\n",
    "tdi_df = tdi_df.replace('--',np.nan)\n",
    "tdi_df.dropna(inplace=True)\n",
    "\n",
    "# configurando tipo correto para os dados\n",
    "tdi_df['cod inep'] = tdi_df['cod inep'].astype('int64')\n",
    "tdi_df['taxa distorcao idade serie'] = tdi_df['taxa distorcao idade serie'].astype('float64')\n",
    "\n",
    "# configurando codigo da escola como indice\n",
    "tdi_df.set_index('cod inep', drop=True, inplace=True)\n",
    "\n",
    "tdi_df.head()"
   ]
  },
  {
   "cell_type": "code",
   "execution_count": 11,
   "metadata": {},
   "outputs": [
    {
     "data": {
      "text/plain": [
       "False"
      ]
     },
     "execution_count": 11,
     "metadata": {},
     "output_type": "execute_result"
    }
   ],
   "source": [
    "# verificando se há nulos na base\n",
    "any(tdi_df.isna().sum() > 0)"
   ]
  },
  {
   "cell_type": "code",
   "execution_count": 12,
   "metadata": {},
   "outputs": [
    {
     "data": {
      "text/html": [
       "<div>\n",
       "<style scoped>\n",
       "    .dataframe tbody tr th:only-of-type {\n",
       "        vertical-align: middle;\n",
       "    }\n",
       "\n",
       "    .dataframe tbody tr th {\n",
       "        vertical-align: top;\n",
       "    }\n",
       "\n",
       "    .dataframe thead th {\n",
       "        text-align: right;\n",
       "    }\n",
       "</style>\n",
       "<table border=\"1\" class=\"dataframe\">\n",
       "  <thead>\n",
       "    <tr style=\"text-align: right;\">\n",
       "      <th></th>\n",
       "      <th>taxa distorcao idade serie</th>\n",
       "    </tr>\n",
       "  </thead>\n",
       "  <tbody>\n",
       "    <tr>\n",
       "      <th>count</th>\n",
       "      <td>28595.000000</td>\n",
       "    </tr>\n",
       "    <tr>\n",
       "      <th>mean</th>\n",
       "      <td>23.101553</td>\n",
       "    </tr>\n",
       "    <tr>\n",
       "      <th>std</th>\n",
       "      <td>18.829977</td>\n",
       "    </tr>\n",
       "    <tr>\n",
       "      <th>min</th>\n",
       "      <td>0.000000</td>\n",
       "    </tr>\n",
       "    <tr>\n",
       "      <th>25%</th>\n",
       "      <td>8.200000</td>\n",
       "    </tr>\n",
       "    <tr>\n",
       "      <th>50%</th>\n",
       "      <td>18.700000</td>\n",
       "    </tr>\n",
       "    <tr>\n",
       "      <th>75%</th>\n",
       "      <td>33.400000</td>\n",
       "    </tr>\n",
       "    <tr>\n",
       "      <th>max</th>\n",
       "      <td>100.000000</td>\n",
       "    </tr>\n",
       "  </tbody>\n",
       "</table>\n",
       "</div>"
      ],
      "text/plain": [
       "       taxa distorcao idade serie\n",
       "count                28595.000000\n",
       "mean                    23.101553\n",
       "std                     18.829977\n",
       "min                      0.000000\n",
       "25%                      8.200000\n",
       "50%                     18.700000\n",
       "75%                     33.400000\n",
       "max                    100.000000"
      ]
     },
     "execution_count": 12,
     "metadata": {},
     "output_type": "execute_result"
    }
   ],
   "source": [
    "# estatisticas basicas para o conjunto de dados\n",
    "tdi_df.describe()"
   ]
  },
  {
   "cell_type": "code",
   "execution_count": 13,
   "metadata": {},
   "outputs": [
    {
     "data": {
      "image/png": "[encoded data removed]",
      "text/plain": [
       "<Figure size 1080x576 with 2 Axes>"
      ]
     },
     "metadata": {
      "needs_background": "light"
     },
     "output_type": "display_data"
    }
   ],
   "source": [
    "# graficos para visualizar a distribuição dos dados\n",
    "fig, axs = plt.subplots(1, 2)\n",
    "fig.suptitle('Taxa de distorção da idade por série')\n",
    "fig.set_figheight(8)\n",
    "fig.set_figwidth(15)\n",
    "\n",
    "sns.boxplot(ax=axs[0], data=tdi_df, y='taxa distorcao idade serie')\n",
    "sns.histplot(ax=axs[1], data=tdi_df['taxa distorcao idade serie'],bins=20)\n",
    "\n",
    "plt.show()"
   ]
  },
  {
   "cell_type": "markdown",
   "metadata": {},
   "source": [
    "---\n",
    "## Taxa de Rendimento Escolar ##"
   ]
  },
  {
   "cell_type": "code",
   "execution_count": 14,
   "metadata": {},
   "outputs": [
    {
     "data": {
      "text/html": [
       "<div>\n",
       "<style scoped>\n",
       "    .dataframe tbody tr th:only-of-type {\n",
       "        vertical-align: middle;\n",
       "    }\n",
       "\n",
       "    .dataframe tbody tr th {\n",
       "        vertical-align: top;\n",
       "    }\n",
       "\n",
       "    .dataframe thead th {\n",
       "        text-align: right;\n",
       "    }\n",
       "</style>\n",
       "<table border=\"1\" class=\"dataframe\">\n",
       "  <thead>\n",
       "    <tr style=\"text-align: right;\">\n",
       "      <th></th>\n",
       "      <th>perc aprovado</th>\n",
       "      <th>perc reprovado</th>\n",
       "      <th>perc evasao</th>\n",
       "    </tr>\n",
       "    <tr>\n",
       "      <th>cod inep</th>\n",
       "      <th></th>\n",
       "      <th></th>\n",
       "      <th></th>\n",
       "    </tr>\n",
       "  </thead>\n",
       "  <tbody>\n",
       "    <tr>\n",
       "      <th>11024968</th>\n",
       "      <td>97.7</td>\n",
       "      <td>2.3</td>\n",
       "      <td>0.0</td>\n",
       "    </tr>\n",
       "    <tr>\n",
       "      <th>11025638</th>\n",
       "      <td>91.4</td>\n",
       "      <td>0.5</td>\n",
       "      <td>8.1</td>\n",
       "    </tr>\n",
       "    <tr>\n",
       "      <th>11037962</th>\n",
       "      <td>100.0</td>\n",
       "      <td>0.0</td>\n",
       "      <td>0.0</td>\n",
       "    </tr>\n",
       "    <tr>\n",
       "      <th>11038373</th>\n",
       "      <td>76.2</td>\n",
       "      <td>23.8</td>\n",
       "      <td>0.0</td>\n",
       "    </tr>\n",
       "    <tr>\n",
       "      <th>11046252</th>\n",
       "      <td>83.3</td>\n",
       "      <td>16.7</td>\n",
       "      <td>0.0</td>\n",
       "    </tr>\n",
       "  </tbody>\n",
       "</table>\n",
       "</div>"
      ],
      "text/plain": [
       "          perc aprovado  perc reprovado  perc evasao\n",
       "cod inep                                            \n",
       "11024968           97.7             2.3          0.0\n",
       "11025638           91.4             0.5          8.1\n",
       "11037962          100.0             0.0          0.0\n",
       "11038373           76.2            23.8          0.0\n",
       "11046252           83.3            16.7          0.0"
      ]
     },
     "execution_count": 14,
     "metadata": {},
     "output_type": "execute_result"
    }
   ],
   "source": [
    "# lendo dataframe\n",
    "tre_df = pd.read_excel('../dados/tx_rend_escolas_2019.xlsx', header=8, usecols=[5, 21, 39, 57], names=['cod inep', 'perc aprovado', 'perc reprovado', 'perc evasao'])\n",
    "\n",
    "# removendo escolas que não possuem ensino medio\n",
    "tre_df = tre_df.replace('--',np.nan)\n",
    "tre_df.dropna(inplace=True)\n",
    "\n",
    "# configurando tipo correto para os dados\n",
    "tre_df['cod inep'] = tre_df['cod inep'].astype('int64')\n",
    "tre_df['perc aprovado'] = tre_df['perc aprovado'].astype('float64')\n",
    "tre_df['perc reprovado'] = tre_df['perc reprovado'].astype('float64')\n",
    "tre_df['perc evasao'] = tre_df['perc evasao'].astype('float64')\n",
    "\n",
    "# configurando codigo da escola como indice\n",
    "tre_df.set_index('cod inep', drop=True, inplace=True)\n",
    "tre_df.head()"
   ]
  },
  {
   "cell_type": "code",
   "execution_count": 15,
   "metadata": {},
   "outputs": [
    {
     "data": {
      "text/plain": [
       "False"
      ]
     },
     "execution_count": 15,
     "metadata": {},
     "output_type": "execute_result"
    }
   ],
   "source": [
    "# verificando se há nulos na base\n",
    "any(tre_df.isna().sum() > 0)"
   ]
  },
  {
   "cell_type": "code",
   "execution_count": 16,
   "metadata": {},
   "outputs": [
    {
     "data": {
      "text/html": [
       "<div>\n",
       "<style scoped>\n",
       "    .dataframe tbody tr th:only-of-type {\n",
       "        vertical-align: middle;\n",
       "    }\n",
       "\n",
       "    .dataframe tbody tr th {\n",
       "        vertical-align: top;\n",
       "    }\n",
       "\n",
       "    .dataframe thead th {\n",
       "        text-align: right;\n",
       "    }\n",
       "</style>\n",
       "<table border=\"1\" class=\"dataframe\">\n",
       "  <thead>\n",
       "    <tr style=\"text-align: right;\">\n",
       "      <th></th>\n",
       "      <th>perc aprovado</th>\n",
       "      <th>perc reprovado</th>\n",
       "      <th>perc evasao</th>\n",
       "    </tr>\n",
       "  </thead>\n",
       "  <tbody>\n",
       "    <tr>\n",
       "      <th>count</th>\n",
       "      <td>28642.000000</td>\n",
       "      <td>28642.000000</td>\n",
       "      <td>28642.000000</td>\n",
       "    </tr>\n",
       "    <tr>\n",
       "      <th>mean</th>\n",
       "      <td>88.954280</td>\n",
       "      <td>7.298048</td>\n",
       "      <td>3.747671</td>\n",
       "    </tr>\n",
       "    <tr>\n",
       "      <th>std</th>\n",
       "      <td>10.756439</td>\n",
       "      <td>7.691510</td>\n",
       "      <td>5.952504</td>\n",
       "    </tr>\n",
       "    <tr>\n",
       "      <th>min</th>\n",
       "      <td>0.000000</td>\n",
       "      <td>0.000000</td>\n",
       "      <td>0.000000</td>\n",
       "    </tr>\n",
       "    <tr>\n",
       "      <th>25%</th>\n",
       "      <td>83.100000</td>\n",
       "      <td>1.600000</td>\n",
       "      <td>0.000000</td>\n",
       "    </tr>\n",
       "    <tr>\n",
       "      <th>50%</th>\n",
       "      <td>92.100000</td>\n",
       "      <td>4.900000</td>\n",
       "      <td>1.100000</td>\n",
       "    </tr>\n",
       "    <tr>\n",
       "      <th>75%</th>\n",
       "      <td>97.400000</td>\n",
       "      <td>10.700000</td>\n",
       "      <td>5.400000</td>\n",
       "    </tr>\n",
       "    <tr>\n",
       "      <th>max</th>\n",
       "      <td>100.000000</td>\n",
       "      <td>79.200000</td>\n",
       "      <td>100.000000</td>\n",
       "    </tr>\n",
       "  </tbody>\n",
       "</table>\n",
       "</div>"
      ],
      "text/plain": [
       "       perc aprovado  perc reprovado   perc evasao\n",
       "count   28642.000000    28642.000000  28642.000000\n",
       "mean       88.954280        7.298048      3.747671\n",
       "std        10.756439        7.691510      5.952504\n",
       "min         0.000000        0.000000      0.000000\n",
       "25%        83.100000        1.600000      0.000000\n",
       "50%        92.100000        4.900000      1.100000\n",
       "75%        97.400000       10.700000      5.400000\n",
       "max       100.000000       79.200000    100.000000"
      ]
     },
     "execution_count": 16,
     "metadata": {},
     "output_type": "execute_result"
    }
   ],
   "source": [
    "# estatisticas basicas para o conjunto de dados\n",
    "tre_df.describe()"
   ]
  },
  {
   "cell_type": "code",
   "execution_count": 17,
   "metadata": {},
   "outputs": [
    {
     "data": {
      "image/png": "[encoded data removed]",
      "text/plain": [
       "<Figure size 1080x216 with 2 Axes>"
      ]
     },
     "metadata": {
      "needs_background": "light"
     },
     "output_type": "display_data"
    },
    {
     "data": {
      "image/png": "[encoded data removed]",
      "text/plain": [
       "<Figure size 1080x216 with 2 Axes>"
      ]
     },
     "metadata": {
      "needs_background": "light"
     },
     "output_type": "display_data"
    },
    {
     "data": {
      "image/png": "[encoded data removed]",
      "text/plain": [
       "<Figure size 1080x216 with 2 Axes>"
      ]
     },
     "metadata": {
      "needs_background": "light"
     },
     "output_type": "display_data"
    }
   ],
   "source": [
    "# graficos para visualizar a distribuição dos dados\n",
    "fig0, axs0 = plt.subplots(1, 2)\n",
    "fig0.suptitle('Taxa de redimento escolar - %Aprovados')\n",
    "fig0.set_figheight(3)\n",
    "fig0.set_figwidth(15)\n",
    "\n",
    "fig1, axs1 = plt.subplots(1, 2)\n",
    "fig1.suptitle('Taxa de redimento escolar - %Reprovados')\n",
    "fig1.set_figheight(3)\n",
    "fig1.set_figwidth(15)\n",
    "\n",
    "fig2, axs2 = plt.subplots(1, 2)\n",
    "fig2.suptitle('Taxa de redimento escolar - %Evasão')\n",
    "fig2.set_figheight(3)\n",
    "fig2.set_figwidth(15)\n",
    "\n",
    "sns.boxplot(ax=axs0[0], data=tre_df, y='perc aprovado')\n",
    "sns.histplot(ax=axs0[1], data=tre_df['perc aprovado'],bins=20)\n",
    "\n",
    "sns.boxplot(ax=axs1[0], data=tre_df, y='perc reprovado')\n",
    "sns.histplot(ax=axs1[1], data=tre_df['perc reprovado'],bins=20)\n",
    "\n",
    "sns.boxplot(ax=axs2[0], data=tre_df, y='perc evasao')\n",
    "sns.histplot(ax=axs2[1], data=tre_df['perc evasao'],bins=20)\n",
    "\n",
    "plt.show()"
   ]
  },
  {
   "cell_type": "markdown",
   "metadata": {},
   "source": [
    "---\n",
    "## Índice de Esforço Docente ##"
   ]
  },
  {
   "cell_type": "code",
   "execution_count": 18,
   "metadata": {},
   "outputs": [
    {
     "data": {
      "text/html": [
       "<div>\n",
       "<style scoped>\n",
       "    .dataframe tbody tr th:only-of-type {\n",
       "        vertical-align: middle;\n",
       "    }\n",
       "\n",
       "    .dataframe tbody tr th {\n",
       "        vertical-align: top;\n",
       "    }\n",
       "\n",
       "    .dataframe thead th {\n",
       "        text-align: right;\n",
       "    }\n",
       "</style>\n",
       "<table border=\"1\" class=\"dataframe\">\n",
       "  <thead>\n",
       "    <tr style=\"text-align: right;\">\n",
       "      <th></th>\n",
       "      <th>perc doc1</th>\n",
       "      <th>perc doc2</th>\n",
       "      <th>perc doc3</th>\n",
       "      <th>perc doc4</th>\n",
       "      <th>perc doc5</th>\n",
       "      <th>perc doc6</th>\n",
       "    </tr>\n",
       "    <tr>\n",
       "      <th>cod inep</th>\n",
       "      <th></th>\n",
       "      <th></th>\n",
       "      <th></th>\n",
       "      <th></th>\n",
       "      <th></th>\n",
       "      <th></th>\n",
       "    </tr>\n",
       "  </thead>\n",
       "  <tbody>\n",
       "    <tr>\n",
       "      <th>11024968</th>\n",
       "      <td>0.0</td>\n",
       "      <td>33.3</td>\n",
       "      <td>46.7</td>\n",
       "      <td>13.3</td>\n",
       "      <td>6.7</td>\n",
       "      <td>0.0</td>\n",
       "    </tr>\n",
       "    <tr>\n",
       "      <th>11025638</th>\n",
       "      <td>0.0</td>\n",
       "      <td>0.0</td>\n",
       "      <td>0.0</td>\n",
       "      <td>43.9</td>\n",
       "      <td>34.1</td>\n",
       "      <td>22.0</td>\n",
       "    </tr>\n",
       "    <tr>\n",
       "      <th>11037962</th>\n",
       "      <td>6.1</td>\n",
       "      <td>0.0</td>\n",
       "      <td>0.0</td>\n",
       "      <td>18.8</td>\n",
       "      <td>68.8</td>\n",
       "      <td>6.3</td>\n",
       "    </tr>\n",
       "    <tr>\n",
       "      <th>11038373</th>\n",
       "      <td>11.8</td>\n",
       "      <td>0.0</td>\n",
       "      <td>0.0</td>\n",
       "      <td>17.6</td>\n",
       "      <td>64.7</td>\n",
       "      <td>5.9</td>\n",
       "    </tr>\n",
       "    <tr>\n",
       "      <th>11046252</th>\n",
       "      <td>11.8</td>\n",
       "      <td>0.0</td>\n",
       "      <td>0.0</td>\n",
       "      <td>17.6</td>\n",
       "      <td>64.7</td>\n",
       "      <td>5.9</td>\n",
       "    </tr>\n",
       "  </tbody>\n",
       "</table>\n",
       "</div>"
      ],
      "text/plain": [
       "          perc doc1  perc doc2  perc doc3  perc doc4  perc doc5  perc doc6\n",
       "cod inep                                                                  \n",
       "11024968        0.0       33.3       46.7       13.3        6.7        0.0\n",
       "11025638        0.0        0.0        0.0       43.9       34.1       22.0\n",
       "11037962        6.1        0.0        0.0       18.8       68.8        6.3\n",
       "11038373       11.8        0.0        0.0       17.6       64.7        5.9\n",
       "11046252       11.8        0.0        0.0       17.6       64.7        5.9"
      ]
     },
     "execution_count": 18,
     "metadata": {},
     "output_type": "execute_result"
    }
   ],
   "source": [
    "# lendo dataframe\n",
    "ied_df = pd.read_excel('../dados/IED_ESCOLAS_2019.xlsx', header=10, usecols=[5, 27, 28, 29, 30, 31, 32],\n",
    "    names=['cod inep','perc doc1','perc doc2','perc doc3','perc doc4','perc doc5','perc doc6'])\n",
    "\n",
    "# removendo escolas que não possuem ensino medio\n",
    "ied_df = ied_df.replace('--',np.nan)\n",
    "ied_df.dropna(inplace=True)\n",
    "\n",
    "# configurando tipo correto para os dados\n",
    "ied_df['cod inep'] = ied_df['cod inep'].astype('int64')\n",
    "ied_df['perc doc1'] = ied_df['perc doc1'].astype('float64')\n",
    "ied_df['perc doc2'] = ied_df['perc doc2'].astype('float64')\n",
    "ied_df['perc doc3'] = ied_df['perc doc3'].astype('float64')\n",
    "ied_df['perc doc4'] = ied_df['perc doc4'].astype('float64')\n",
    "ied_df['perc doc5'] = ied_df['perc doc5'].astype('float64')\n",
    "ied_df['perc doc6'] = ied_df['perc doc6'].astype('float64')\n",
    "\n",
    "# configurando codigo da escola como indice\n",
    "ied_df.set_index('cod inep', drop=True, inplace=True)\n",
    "ied_df.head()"
   ]
  },
  {
   "cell_type": "code",
   "execution_count": 19,
   "metadata": {},
   "outputs": [
    {
     "data": {
      "text/plain": [
       "False"
      ]
     },
     "execution_count": 19,
     "metadata": {},
     "output_type": "execute_result"
    }
   ],
   "source": [
    "# verificando se há nulos na base\n",
    "any(ied_df.isna().sum() > 0)"
   ]
  },
  {
   "cell_type": "code",
   "execution_count": 20,
   "metadata": {},
   "outputs": [
    {
     "data": {
      "text/html": [
       "<div>\n",
       "<style scoped>\n",
       "    .dataframe tbody tr th:only-of-type {\n",
       "        vertical-align: middle;\n",
       "    }\n",
       "\n",
       "    .dataframe tbody tr th {\n",
       "        vertical-align: top;\n",
       "    }\n",
       "\n",
       "    .dataframe thead th {\n",
       "        text-align: right;\n",
       "    }\n",
       "</style>\n",
       "<table border=\"1\" class=\"dataframe\">\n",
       "  <thead>\n",
       "    <tr style=\"text-align: right;\">\n",
       "      <th></th>\n",
       "      <th>perc doc1</th>\n",
       "      <th>perc doc2</th>\n",
       "      <th>perc doc3</th>\n",
       "      <th>perc doc4</th>\n",
       "      <th>perc doc5</th>\n",
       "      <th>perc doc6</th>\n",
       "    </tr>\n",
       "  </thead>\n",
       "  <tbody>\n",
       "    <tr>\n",
       "      <th>count</th>\n",
       "      <td>28860.000000</td>\n",
       "      <td>28860.000000</td>\n",
       "      <td>28860.000000</td>\n",
       "      <td>28860.000000</td>\n",
       "      <td>28860.000000</td>\n",
       "      <td>28860.000000</td>\n",
       "    </tr>\n",
       "    <tr>\n",
       "      <th>mean</th>\n",
       "      <td>1.183423</td>\n",
       "      <td>7.903579</td>\n",
       "      <td>22.887020</td>\n",
       "      <td>43.050679</td>\n",
       "      <td>16.031379</td>\n",
       "      <td>8.943919</td>\n",
       "    </tr>\n",
       "    <tr>\n",
       "      <th>std</th>\n",
       "      <td>6.530494</td>\n",
       "      <td>12.367657</td>\n",
       "      <td>19.828827</td>\n",
       "      <td>19.148489</td>\n",
       "      <td>12.774771</td>\n",
       "      <td>9.915598</td>\n",
       "    </tr>\n",
       "    <tr>\n",
       "      <th>min</th>\n",
       "      <td>0.000000</td>\n",
       "      <td>0.000000</td>\n",
       "      <td>0.000000</td>\n",
       "      <td>0.000000</td>\n",
       "      <td>0.000000</td>\n",
       "      <td>0.000000</td>\n",
       "    </tr>\n",
       "    <tr>\n",
       "      <th>25%</th>\n",
       "      <td>0.000000</td>\n",
       "      <td>0.000000</td>\n",
       "      <td>8.300000</td>\n",
       "      <td>30.800000</td>\n",
       "      <td>6.700000</td>\n",
       "      <td>0.000000</td>\n",
       "    </tr>\n",
       "    <tr>\n",
       "      <th>50%</th>\n",
       "      <td>0.000000</td>\n",
       "      <td>4.000000</td>\n",
       "      <td>18.100000</td>\n",
       "      <td>43.500000</td>\n",
       "      <td>14.300000</td>\n",
       "      <td>7.100000</td>\n",
       "    </tr>\n",
       "    <tr>\n",
       "      <th>75%</th>\n",
       "      <td>0.000000</td>\n",
       "      <td>10.500000</td>\n",
       "      <td>33.300000</td>\n",
       "      <td>55.600000</td>\n",
       "      <td>23.500000</td>\n",
       "      <td>13.600000</td>\n",
       "    </tr>\n",
       "    <tr>\n",
       "      <th>max</th>\n",
       "      <td>100.000000</td>\n",
       "      <td>100.000000</td>\n",
       "      <td>100.000000</td>\n",
       "      <td>100.000000</td>\n",
       "      <td>100.000000</td>\n",
       "      <td>100.000000</td>\n",
       "    </tr>\n",
       "  </tbody>\n",
       "</table>\n",
       "</div>"
      ],
      "text/plain": [
       "          perc doc1     perc doc2     perc doc3     perc doc4     perc doc5  \\\n",
       "count  28860.000000  28860.000000  28860.000000  28860.000000  28860.000000   \n",
       "mean       1.183423      7.903579     22.887020     43.050679     16.031379   \n",
       "std        6.530494     12.367657     19.828827     19.148489     12.774771   \n",
       "min        0.000000      0.000000      0.000000      0.000000      0.000000   \n",
       "25%        0.000000      0.000000      8.300000     30.800000      6.700000   \n",
       "50%        0.000000      4.000000     18.100000     43.500000     14.300000   \n",
       "75%        0.000000     10.500000     33.300000     55.600000     23.500000   \n",
       "max      100.000000    100.000000    100.000000    100.000000    100.000000   \n",
       "\n",
       "          perc doc6  \n",
       "count  28860.000000  \n",
       "mean       8.943919  \n",
       "std        9.915598  \n",
       "min        0.000000  \n",
       "25%        0.000000  \n",
       "50%        7.100000  \n",
       "75%       13.600000  \n",
       "max      100.000000  "
      ]
     },
     "execution_count": 20,
     "metadata": {},
     "output_type": "execute_result"
    }
   ],
   "source": [
    "# estatisticas basicas para o conjunto de dados\n",
    "ied_df.describe()"
   ]
  },
  {
   "cell_type": "code",
   "execution_count": 21,
   "metadata": {},
   "outputs": [
    {
     "data": {
      "image/png": "[encoded data removed]",
      "text/plain": [
       "<Figure size 1080x864 with 6 Axes>"
      ]
     },
     "metadata": {
      "needs_background": "light"
     },
     "output_type": "display_data"
    }
   ],
   "source": [
    "# graficos para visualizar a distribuição dos dados\n",
    "fig, axs = plt.subplots(3, 2)\n",
    "fig.suptitle('Percentual de Índice de Esforço Docente')\n",
    "fig.set_figheight(12)\n",
    "fig.set_figwidth(15)\n",
    "\n",
    "sns.histplot(ax=axs[0, 0], data=ied_df['perc doc1'],bins=20)\n",
    "sns.histplot(ax=axs[0, 1], data=ied_df['perc doc2'],bins=20)\n",
    "sns.histplot(ax=axs[1, 0], data=ied_df['perc doc3'],bins=20)\n",
    "sns.histplot(ax=axs[1, 1], data=ied_df['perc doc4'],bins=20)\n",
    "sns.histplot(ax=axs[2, 0], data=ied_df['perc doc5'],bins=20)\n",
    "sns.histplot(ax=axs[2, 1], data=ied_df['perc doc6'],bins=20)\n",
    "\n",
    "plt.show()"
   ]
  },
  {
   "cell_type": "markdown",
   "metadata": {},
   "source": [
    "---\n",
    "## Índice de Nível SocioEconomico ##"
   ]
  },
  {
   "cell_type": "code",
   "execution_count": 22,
   "metadata": {},
   "outputs": [
    {
     "data": {
      "text/html": [
       "<div>\n",
       "<style scoped>\n",
       "    .dataframe tbody tr th:only-of-type {\n",
       "        vertical-align: middle;\n",
       "    }\n",
       "\n",
       "    .dataframe tbody tr th {\n",
       "        vertical-align: top;\n",
       "    }\n",
       "\n",
       "    .dataframe thead th {\n",
       "        text-align: right;\n",
       "    }\n",
       "</style>\n",
       "<table border=\"1\" class=\"dataframe\">\n",
       "  <thead>\n",
       "    <tr style=\"text-align: right;\">\n",
       "      <th></th>\n",
       "      <th>valor inse</th>\n",
       "    </tr>\n",
       "    <tr>\n",
       "      <th>cod inep</th>\n",
       "      <th></th>\n",
       "    </tr>\n",
       "  </thead>\n",
       "  <tbody>\n",
       "    <tr>\n",
       "      <th>11024666</th>\n",
       "      <td>4.54</td>\n",
       "    </tr>\n",
       "    <tr>\n",
       "      <th>11024682</th>\n",
       "      <td>4.96</td>\n",
       "    </tr>\n",
       "    <tr>\n",
       "      <th>11024828</th>\n",
       "      <td>4.87</td>\n",
       "    </tr>\n",
       "    <tr>\n",
       "      <th>11024968</th>\n",
       "      <td>4.78</td>\n",
       "    </tr>\n",
       "    <tr>\n",
       "      <th>11025077</th>\n",
       "      <td>4.60</td>\n",
       "    </tr>\n",
       "  </tbody>\n",
       "</table>\n",
       "</div>"
      ],
      "text/plain": [
       "          valor inse\n",
       "cod inep            \n",
       "11024666        4.54\n",
       "11024682        4.96\n",
       "11024828        4.87\n",
       "11024968        4.78\n",
       "11025077        4.60"
      ]
     },
     "execution_count": 22,
     "metadata": {},
     "output_type": "execute_result"
    }
   ],
   "source": [
    "# lendo dataframe\n",
    "inse_df = pd.read_excel('../dados/INSE_2019_ESCOLAS.xlsx', header=0, usecols=[0, 10], names=['cod inep', 'valor inse'])\n",
    "\n",
    "# configurando tipo correto para os dados\n",
    "inse_df['cod inep'] = inse_df['cod inep'].astype('int64')\n",
    "inse_df['valor inse'] = inse_df['valor inse'].astype('float64')\n",
    "\n",
    "# configurando codigo da escola como indice\n",
    "inse_df.set_index('cod inep', drop=True, inplace=True)\n",
    "inse_df.head()"
   ]
  },
  {
   "cell_type": "code",
   "execution_count": 23,
   "metadata": {},
   "outputs": [
    {
     "data": {
      "text/plain": [
       "False"
      ]
     },
     "execution_count": 23,
     "metadata": {},
     "output_type": "execute_result"
    }
   ],
   "source": [
    "# verificando se há nulos na base\n",
    "any(inse_df.isna().sum() > 0)"
   ]
  },
  {
   "cell_type": "code",
   "execution_count": 24,
   "metadata": {},
   "outputs": [
    {
     "data": {
      "text/html": [
       "<div>\n",
       "<style scoped>\n",
       "    .dataframe tbody tr th:only-of-type {\n",
       "        vertical-align: middle;\n",
       "    }\n",
       "\n",
       "    .dataframe tbody tr th {\n",
       "        vertical-align: top;\n",
       "    }\n",
       "\n",
       "    .dataframe thead th {\n",
       "        text-align: right;\n",
       "    }\n",
       "</style>\n",
       "<table border=\"1\" class=\"dataframe\">\n",
       "  <thead>\n",
       "    <tr style=\"text-align: right;\">\n",
       "      <th></th>\n",
       "      <th>valor inse</th>\n",
       "    </tr>\n",
       "  </thead>\n",
       "  <tbody>\n",
       "    <tr>\n",
       "      <th>count</th>\n",
       "      <td>68868.000000</td>\n",
       "    </tr>\n",
       "    <tr>\n",
       "      <th>mean</th>\n",
       "      <td>4.700523</td>\n",
       "    </tr>\n",
       "    <tr>\n",
       "      <th>std</th>\n",
       "      <td>0.568479</td>\n",
       "    </tr>\n",
       "    <tr>\n",
       "      <th>min</th>\n",
       "      <td>2.470000</td>\n",
       "    </tr>\n",
       "    <tr>\n",
       "      <th>25%</th>\n",
       "      <td>4.270000</td>\n",
       "    </tr>\n",
       "    <tr>\n",
       "      <th>50%</th>\n",
       "      <td>4.730000</td>\n",
       "    </tr>\n",
       "    <tr>\n",
       "      <th>75%</th>\n",
       "      <td>5.140000</td>\n",
       "    </tr>\n",
       "    <tr>\n",
       "      <th>max</th>\n",
       "      <td>6.590000</td>\n",
       "    </tr>\n",
       "  </tbody>\n",
       "</table>\n",
       "</div>"
      ],
      "text/plain": [
       "         valor inse\n",
       "count  68868.000000\n",
       "mean       4.700523\n",
       "std        0.568479\n",
       "min        2.470000\n",
       "25%        4.270000\n",
       "50%        4.730000\n",
       "75%        5.140000\n",
       "max        6.590000"
      ]
     },
     "execution_count": 24,
     "metadata": {},
     "output_type": "execute_result"
    }
   ],
   "source": [
    "# estatisticas basicas para o conjunto de dados\n",
    "inse_df.describe()"
   ]
  },
  {
   "cell_type": "code",
   "execution_count": 25,
   "metadata": {},
   "outputs": [
    {
     "data": {
      "image/png": "[encoded data removed]",
      "text/plain": [
       "<Figure size 1080x576 with 2 Axes>"
      ]
     },
     "metadata": {
      "needs_background": "light"
     },
     "output_type": "display_data"
    }
   ],
   "source": [
    "# graficos para visualizar a distribuição dos dados\n",
    "fig, axs = plt.subplots(1, 2)\n",
    "fig.set_figheight(8)\n",
    "fig.set_figwidth(15)\n",
    "fig.suptitle('Índice Socioeconômico')\n",
    "\n",
    "sns.boxplot(ax=axs[0], data=inse_df, y='valor inse')\n",
    "sns.histplot(ax=axs[1], data=inse_df, x='valor inse', bins=20)\n",
    "\n",
    "plt.show()"
   ]
  },
  {
   "cell_type": "markdown",
   "metadata": {},
   "source": [
    "---\n",
    "## Educação Básica ##"
   ]
  },
  {
   "cell_type": "code",
   "execution_count": 26,
   "metadata": {},
   "outputs": [],
   "source": [
    "# função que preenche os valores faltantes para variaveis que possuem valores atrelados a outras variaveis\n",
    "def preencher_limitantes(instancia):\n",
    "    instancia['qt_equip_dvd'] = instancia['qt_equip_dvd'] if instancia['qt_equip_dvd'] != 88888 else floor(0.75*instancia['qt_salas_utilizadas'])\n",
    "    instancia['qt_equip_som'] = instancia['qt_equip_som'] if instancia['qt_equip_som'] != 88888 else floor(0.75*instancia['qt_salas_utilizadas'])\n",
    "    instancia['qt_equip_tv'] = instancia['qt_equip_tv'] if instancia['qt_equip_tv'] != 88888 else floor(0.75*instancia['qt_salas_utilizadas'])\n",
    "    instancia['qt_equip_lousa_digital'] = instancia['qt_equip_lousa_digital'] if instancia['qt_equip_lousa_digital'] != 88888 else floor(0.75*instancia['qt_salas_utilizadas'])\n",
    "    instancia['qt_equip_multimidia'] = instancia['qt_equip_multimidia'] if instancia['qt_equip_multimidia'] != 88888 else floor(0.75*instancia['qt_salas_utilizadas'])\n",
    "    instancia['qt_desktop_aluno'] = instancia['qt_desktop_aluno'] if instancia['qt_desktop_aluno'] != 88888 else floor(0.75*instancia['qt_salas_utilizadas'])\n",
    "    instancia['qt_comp_portatil_aluno'] = instancia['qt_comp_portatil_aluno'] if instancia['qt_comp_portatil_aluno'] != 88888 else floor(0.75*instancia['qt_salas_utilizadas'])\n",
    "    instancia['qt_tablet_aluno'] = instancia['qt_tablet_aluno'] if instancia['qt_tablet_aluno'] != 88888 else floor(0.75*instancia['qt_salas_utilizadas'])\n",
    "\n",
    "    instancia['qt_prof_administrativos'] = instancia['qt_prof_administrativos'] if instancia['qt_prof_administrativos'] != 88888 else 3*instancia['qt_mat_bas']\n",
    "    instancia['qt_prof_servicos_gerais'] = instancia['qt_prof_servicos_gerais'] if instancia['qt_prof_servicos_gerais'] != 88888 else 3*instancia['qt_mat_bas']\n",
    "    instancia['qt_prof_bibliotecario'] = instancia['qt_prof_bibliotecario'] if instancia['qt_prof_bibliotecario'] != 88888 else 3*instancia['qt_mat_bas']\n",
    "    instancia['qt_prof_saude'] = instancia['qt_prof_saude'] if instancia['qt_prof_saude'] != 88888 else 3*instancia['qt_mat_bas']\n",
    "    instancia['qt_prof_coordenador'] = instancia['qt_prof_coordenador'] if instancia['qt_prof_coordenador'] != 88888 else 3*instancia['qt_mat_bas']\n",
    "    instancia['qt_prof_fonaudiologo'] = instancia['qt_prof_fonaudiologo'] if instancia['qt_prof_fonaudiologo'] != 88888 else 3*instancia['qt_mat_bas']\n",
    "    instancia['qt_prof_nutricionista'] = instancia['qt_prof_nutricionista'] if instancia['qt_prof_nutricionista'] != 88888 else 3*instancia['qt_mat_bas']\n",
    "    instancia['qt_prof_psicologo'] = instancia['qt_prof_psicologo'] if instancia['qt_prof_psicologo'] != 88888 else 3*instancia['qt_mat_bas']\n",
    "    instancia['qt_prof_alimentacao'] = instancia['qt_prof_alimentacao'] if instancia['qt_prof_alimentacao'] != 88888 else 3*instancia['qt_mat_bas']\n",
    "    instancia['qt_prof_pedagogia'] = instancia['qt_prof_pedagogia'] if instancia['qt_prof_pedagogia'] != 88888 else 3*instancia['qt_mat_bas']\n",
    "    instancia['qt_prof_secretario'] = instancia['qt_prof_secretario'] if instancia['qt_prof_secretario'] != 88888 else 3*instancia['qt_mat_bas']\n",
    "    instancia['qt_prof_seguranca'] = instancia['qt_prof_seguranca'] if instancia['qt_prof_seguranca'] != 88888 else 3*instancia['qt_mat_bas']\n",
    "    instancia['qt_prof_monitores'] = instancia['qt_prof_monitores'] if instancia['qt_prof_monitores'] != 88888 else 3*instancia['qt_mat_bas']\n",
    "    \n",
    "    return instancia"
   ]
  },
  {
   "cell_type": "code",
   "execution_count": 27,
   "metadata": {},
   "outputs": [],
   "source": [
    "# filtrando as principais colunas do dataframe\n",
    "cols_selecionadas = []\n",
    "file = open('dataprep/colunas_selecionadas_ed_basica.txt','r')\n",
    "cols_selecionadas = file.readlines()\n",
    "cols_selecionadas = [c[:-1] for c in cols_selecionadas]\n",
    "file.close()"
   ]
  },
  {
   "cell_type": "code",
   "execution_count": 28,
   "metadata": {},
   "outputs": [],
   "source": [
    "# filtrando as principais colunas do dataframe\n",
    "cols_int = []\n",
    "file = open('dataprep/colunas_tipo_inteiro.txt','r')\n",
    "cols_int = file.readlines()\n",
    "cols_int = [c[:-1] for c in cols_int]\n",
    "file.close()"
   ]
  },
  {
   "cell_type": "code",
   "execution_count": 29,
   "metadata": {},
   "outputs": [],
   "source": [
    "# filtrando as principais colunas do dataframe\n",
    "yn = {np.nan:'nao', 0:'nao', 1:'sim'}\n",
    "\n",
    "cols_cat = []\n",
    "file = open('dataprep/colunas_tipo_categorico.txt','r')\n",
    "cols_cat = file.readlines()\n",
    "cols_cat = [c[:-1] for c in cols_cat]\n",
    "file.close()"
   ]
  },
  {
   "cell_type": "code",
   "execution_count": 30,
   "metadata": {},
   "outputs": [
    {
     "data": {
      "text/html": [
       "<div>\n",
       "<style scoped>\n",
       "    .dataframe tbody tr th:only-of-type {\n",
       "        vertical-align: middle;\n",
       "    }\n",
       "\n",
       "    .dataframe tbody tr th {\n",
       "        vertical-align: top;\n",
       "    }\n",
       "\n",
       "    .dataframe thead th {\n",
       "        text-align: right;\n",
       "    }\n",
       "</style>\n",
       "<table border=\"1\" class=\"dataframe\">\n",
       "  <thead>\n",
       "    <tr style=\"text-align: right;\">\n",
       "      <th></th>\n",
       "      <th>co_regiao</th>\n",
       "      <th>co_uf</th>\n",
       "      <th>co_municipio</th>\n",
       "      <th>co_mesorregiao</th>\n",
       "      <th>co_microrregiao</th>\n",
       "      <th>no_entidade</th>\n",
       "      <th>tp_dependencia</th>\n",
       "      <th>tp_categoria_escola_privada</th>\n",
       "      <th>tp_localizacao</th>\n",
       "      <th>tp_localizacao_diferenciada</th>\n",
       "      <th>...</th>\n",
       "      <th>qt_tur_med</th>\n",
       "      <th>qt_tur_prof</th>\n",
       "      <th>qt_tur_prof_tec</th>\n",
       "      <th>qt_tur_eja</th>\n",
       "      <th>qt_tur_eja_fund</th>\n",
       "      <th>qt_tur_eja_med</th>\n",
       "      <th>qt_tur_esp</th>\n",
       "      <th>qt_tur_esp_cc</th>\n",
       "      <th>qt_tur_esp_ce</th>\n",
       "      <th>tp_lingua</th>\n",
       "    </tr>\n",
       "    <tr>\n",
       "      <th>co_entidade</th>\n",
       "      <th></th>\n",
       "      <th></th>\n",
       "      <th></th>\n",
       "      <th></th>\n",
       "      <th></th>\n",
       "      <th></th>\n",
       "      <th></th>\n",
       "      <th></th>\n",
       "      <th></th>\n",
       "      <th></th>\n",
       "      <th></th>\n",
       "      <th></th>\n",
       "      <th></th>\n",
       "      <th></th>\n",
       "      <th></th>\n",
       "      <th></th>\n",
       "      <th></th>\n",
       "      <th></th>\n",
       "      <th></th>\n",
       "      <th></th>\n",
       "      <th></th>\n",
       "    </tr>\n",
       "  </thead>\n",
       "  <tbody>\n",
       "    <tr>\n",
       "      <th>11022558</th>\n",
       "      <td>1</td>\n",
       "      <td>11</td>\n",
       "      <td>1100015</td>\n",
       "      <td>1102</td>\n",
       "      <td>11006</td>\n",
       "      <td>EIEEF HAP BITT TUPARI</td>\n",
       "      <td>estadual</td>\n",
       "      <td>publica</td>\n",
       "      <td>rural</td>\n",
       "      <td>indigena</td>\n",
       "      <td>...</td>\n",
       "      <td>0</td>\n",
       "      <td>0</td>\n",
       "      <td>0</td>\n",
       "      <td>0</td>\n",
       "      <td>0</td>\n",
       "      <td>0</td>\n",
       "      <td>0</td>\n",
       "      <td>0</td>\n",
       "      <td>0</td>\n",
       "      <td>ambos</td>\n",
       "    </tr>\n",
       "    <tr>\n",
       "      <th>11024275</th>\n",
       "      <td>1</td>\n",
       "      <td>11</td>\n",
       "      <td>1100015</td>\n",
       "      <td>1102</td>\n",
       "      <td>11006</td>\n",
       "      <td>CEEJA LUIZ VAZ DE CAMOES</td>\n",
       "      <td>estadual</td>\n",
       "      <td>publica</td>\n",
       "      <td>urbana</td>\n",
       "      <td>normal</td>\n",
       "      <td>...</td>\n",
       "      <td>0</td>\n",
       "      <td>0</td>\n",
       "      <td>0</td>\n",
       "      <td>13</td>\n",
       "      <td>7</td>\n",
       "      <td>6</td>\n",
       "      <td>2</td>\n",
       "      <td>2</td>\n",
       "      <td>0</td>\n",
       "      <td>portugues</td>\n",
       "    </tr>\n",
       "    <tr>\n",
       "      <th>11024291</th>\n",
       "      <td>1</td>\n",
       "      <td>11</td>\n",
       "      <td>1100015</td>\n",
       "      <td>1102</td>\n",
       "      <td>11006</td>\n",
       "      <td>EMMEF 7 DE SETEMBRO</td>\n",
       "      <td>municipal</td>\n",
       "      <td>publica</td>\n",
       "      <td>rural</td>\n",
       "      <td>normal</td>\n",
       "      <td>...</td>\n",
       "      <td>0</td>\n",
       "      <td>0</td>\n",
       "      <td>0</td>\n",
       "      <td>0</td>\n",
       "      <td>0</td>\n",
       "      <td>0</td>\n",
       "      <td>0</td>\n",
       "      <td>0</td>\n",
       "      <td>0</td>\n",
       "      <td>portugues</td>\n",
       "    </tr>\n",
       "    <tr>\n",
       "      <th>11024372</th>\n",
       "      <td>1</td>\n",
       "      <td>11</td>\n",
       "      <td>1100015</td>\n",
       "      <td>1102</td>\n",
       "      <td>11006</td>\n",
       "      <td>EMEIEF ANA NERY</td>\n",
       "      <td>municipal</td>\n",
       "      <td>publica</td>\n",
       "      <td>urbana</td>\n",
       "      <td>normal</td>\n",
       "      <td>...</td>\n",
       "      <td>0</td>\n",
       "      <td>0</td>\n",
       "      <td>0</td>\n",
       "      <td>0</td>\n",
       "      <td>0</td>\n",
       "      <td>0</td>\n",
       "      <td>3</td>\n",
       "      <td>3</td>\n",
       "      <td>0</td>\n",
       "      <td>portugues</td>\n",
       "    </tr>\n",
       "    <tr>\n",
       "      <th>11024666</th>\n",
       "      <td>1</td>\n",
       "      <td>11</td>\n",
       "      <td>1100015</td>\n",
       "      <td>1102</td>\n",
       "      <td>11006</td>\n",
       "      <td>EMEIEF BOA ESPERANCA</td>\n",
       "      <td>municipal</td>\n",
       "      <td>publica</td>\n",
       "      <td>rural</td>\n",
       "      <td>normal</td>\n",
       "      <td>...</td>\n",
       "      <td>0</td>\n",
       "      <td>0</td>\n",
       "      <td>0</td>\n",
       "      <td>0</td>\n",
       "      <td>0</td>\n",
       "      <td>0</td>\n",
       "      <td>3</td>\n",
       "      <td>3</td>\n",
       "      <td>0</td>\n",
       "      <td>portugues</td>\n",
       "    </tr>\n",
       "  </tbody>\n",
       "</table>\n",
       "<p>5 rows × 173 columns</p>\n",
       "</div>"
      ],
      "text/plain": [
       "            co_regiao co_uf co_municipio co_mesorregiao co_microrregiao  \\\n",
       "co_entidade                                                               \n",
       "11022558            1    11      1100015           1102           11006   \n",
       "11024275            1    11      1100015           1102           11006   \n",
       "11024291            1    11      1100015           1102           11006   \n",
       "11024372            1    11      1100015           1102           11006   \n",
       "11024666            1    11      1100015           1102           11006   \n",
       "\n",
       "                          no_entidade tp_dependencia  \\\n",
       "co_entidade                                            \n",
       "11022558        EIEEF HAP BITT TUPARI       estadual   \n",
       "11024275     CEEJA LUIZ VAZ DE CAMOES       estadual   \n",
       "11024291          EMMEF 7 DE SETEMBRO      municipal   \n",
       "11024372              EMEIEF ANA NERY      municipal   \n",
       "11024666         EMEIEF BOA ESPERANCA      municipal   \n",
       "\n",
       "            tp_categoria_escola_privada tp_localizacao  \\\n",
       "co_entidade                                              \n",
       "11022558                        publica          rural   \n",
       "11024275                        publica         urbana   \n",
       "11024291                        publica          rural   \n",
       "11024372                        publica         urbana   \n",
       "11024666                        publica          rural   \n",
       "\n",
       "            tp_localizacao_diferenciada  ... qt_tur_med qt_tur_prof  \\\n",
       "co_entidade                              ...                          \n",
       "11022558                       indigena  ...          0           0   \n",
       "11024275                         normal  ...          0           0   \n",
       "11024291                         normal  ...          0           0   \n",
       "11024372                         normal  ...          0           0   \n",
       "11024666                         normal  ...          0           0   \n",
       "\n",
       "            qt_tur_prof_tec qt_tur_eja qt_tur_eja_fund qt_tur_eja_med  \\\n",
       "co_entidade                                                             \n",
       "11022558                  0          0               0              0   \n",
       "11024275                  0         13               7              6   \n",
       "11024291                  0          0               0              0   \n",
       "11024372                  0          0               0              0   \n",
       "11024666                  0          0               0              0   \n",
       "\n",
       "            qt_tur_esp qt_tur_esp_cc qt_tur_esp_ce  tp_lingua  \n",
       "co_entidade                                                    \n",
       "11022558             0             0             0      ambos  \n",
       "11024275             2             2             0  portugues  \n",
       "11024291             0             0             0  portugues  \n",
       "11024372             3             3             0  portugues  \n",
       "11024666             3             3             0  portugues  \n",
       "\n",
       "[5 rows x 173 columns]"
      ]
     },
     "execution_count": 30,
     "metadata": {},
     "output_type": "execute_result"
    }
   ],
   "source": [
    "# lendo dataframe\n",
    "eb = pd.read_csv('../dados/microdados_ed_basica_2019.csv', sep=';', header=0, encoding='latin-1', usecols=cols_selecionadas)\n",
    "eb.columns = [col.lower().strip() for col in eb.columns]\n",
    "\n",
    "# filtrar escolas ativas\n",
    "eb = eb[eb['tp_situacao_funcionamento'] == 1]\n",
    "\n",
    "# filtrar outlier\n",
    "eb = eb[eb['qt_salas_utilizadas'] < 1000]\n",
    "\n",
    "# ajustando variaveis inteiras\n",
    "eb[cols_int] = eb[cols_int].replace({np.nan:0}).astype('int64')\n",
    "eb = eb.apply(preencher_limitantes, axis=1)\n",
    "\n",
    "# ajustando variaveis categoricas gerais\n",
    "eb[cols_cat] = eb[cols_cat].replace(yn).astype('category')\n",
    "\n",
    "# ajustando variaveis categoricas especiais\n",
    "eb['co_regiao'] = eb['co_regiao'].astype('category')\n",
    "eb['co_uf'] = eb['co_uf'].astype('category')\n",
    "eb['co_municipio'] = eb['co_municipio'].astype('category')\n",
    "eb['co_mesorregiao'] = eb['co_mesorregiao'].astype('category')\n",
    "eb['co_microrregiao'] = eb['co_microrregiao'].astype('category')\n",
    "eb['tp_dependencia'] = eb['tp_dependencia'].replace({\n",
    "    1:'federal',2:'estadual', 3:'municipal', 4:'privada'}).astype('category')\n",
    "eb['tp_localizacao'] = eb['tp_localizacao'].replace({\n",
    "    1:'urbana',2:'rural'}).astype('category')\n",
    "eb['tp_localizacao_diferenciada'] = eb['tp_localizacao_diferenciada'].replace({\n",
    "    0:'normal', 1:'assentamento',2:'indigena', 3:'quilombo'}).astype('category')\n",
    "eb['tp_categoria_escola_privada'] = eb['tp_categoria_escola_privada'].replace({\n",
    "    np.nan:'publica', 1:'particular', 2:'comunitaria', 3:'confessional', 4:'filantropica'}).astype('category')\n",
    "eb['tp_ocupacao_predio_escolar'] = eb['tp_ocupacao_predio_escolar'].replace({\n",
    "    np.nan:'sem ocupacao', 1:'proprio', 2:'alugado', 3:'cedido'}).astype('category')\n",
    "eb['tp_ocupacao_galpao'] = eb['tp_ocupacao_galpao'].replace({\n",
    "    np.nan:'sem galpao', 9:'sem galpao', 1:'proprio', 2:'alugado', 3:'cedido'}).astype('category')\n",
    "eb['tp_lingua'] = eb['tp_indigena_lingua'].replace({\n",
    "    np.nan:'portugues', 1:'portugues', 2:'indigena', 3:'ambos'}).astype('category')\n",
    "eb['tp_convenio_poder_publico'] = eb['tp_convenio_poder_publico'].replace({\n",
    "    np.nan:'sem convenio', 1:'municipal', 2:'estadual', 3:'ambos'}).astype('category')\n",
    "eb['tp_rede_local'] = eb['tp_rede_local'].replace({\n",
    "    1:'a cabo', 2:'wireless', 3:'ambos', 9:'sem internet'}).astype('category')\n",
    "\n",
    "eb.drop(columns=['tp_situacao_funcionamento','tp_indigena_lingua'], inplace=True)\n",
    "ed_basica_df = eb.set_index('co_entidade', drop=True)\n",
    "ed_basica_df.head()"
   ]
  },
  {
   "cell_type": "code",
   "execution_count": 31,
   "metadata": {},
   "outputs": [
    {
     "name": "stdout",
     "output_type": "stream",
     "text": [
      "<class 'pandas.core.frame.DataFrame'>\n",
      "Int64Index: 182460 entries, 11022558 to 53086007\n",
      "Columns: 173 entries, co_regiao to tp_lingua\n",
      "dtypes: category(129), int64(43), object(1)\n",
      "memory usage: 85.8+ MB\n"
     ]
    }
   ],
   "source": [
    "ed_basica_df.info()"
   ]
  },
  {
   "cell_type": "code",
   "execution_count": 32,
   "metadata": {},
   "outputs": [
    {
     "data": {
      "text/plain": [
       "False"
      ]
     },
     "execution_count": 32,
     "metadata": {},
     "output_type": "execute_result"
    }
   ],
   "source": [
    "any(ed_basica_df.isna().sum() > 0)"
   ]
  },
  {
   "cell_type": "markdown",
   "metadata": {},
   "source": [
    "---\n",
    "## Notas ENEM ##"
   ]
  },
  {
   "cell_type": "code",
   "execution_count": 33,
   "metadata": {},
   "outputs": [
    {
     "data": {
      "text/html": [
       "<div>\n",
       "<style scoped>\n",
       "    .dataframe tbody tr th:only-of-type {\n",
       "        vertical-align: middle;\n",
       "    }\n",
       "\n",
       "    .dataframe tbody tr th {\n",
       "        vertical-align: top;\n",
       "    }\n",
       "\n",
       "    .dataframe thead th {\n",
       "        text-align: right;\n",
       "    }\n",
       "</style>\n",
       "<table border=\"1\" class=\"dataframe\">\n",
       "  <thead>\n",
       "    <tr style=\"text-align: right;\">\n",
       "      <th></th>\n",
       "      <th>nota enem</th>\n",
       "    </tr>\n",
       "    <tr>\n",
       "      <th>cod inep</th>\n",
       "      <th></th>\n",
       "    </tr>\n",
       "  </thead>\n",
       "  <tbody>\n",
       "    <tr>\n",
       "      <th>23246847</th>\n",
       "      <td>760.18</td>\n",
       "    </tr>\n",
       "    <tr>\n",
       "      <th>23246871</th>\n",
       "      <td>755.34</td>\n",
       "    </tr>\n",
       "    <tr>\n",
       "      <th>31350664</th>\n",
       "      <td>742.94</td>\n",
       "    </tr>\n",
       "    <tr>\n",
       "      <th>35399197</th>\n",
       "      <td>740.77</td>\n",
       "    </tr>\n",
       "    <tr>\n",
       "      <th>31349720</th>\n",
       "      <td>740.72</td>\n",
       "    </tr>\n",
       "  </tbody>\n",
       "</table>\n",
       "</div>"
      ],
      "text/plain": [
       "          nota enem\n",
       "cod inep           \n",
       "23246847     760.18\n",
       "23246871     755.34\n",
       "31350664     742.94\n",
       "35399197     740.77\n",
       "31349720     740.72"
      ]
     },
     "execution_count": 33,
     "metadata": {},
     "output_type": "execute_result"
    }
   ],
   "source": [
    "# lendo dataframe\n",
    "enem_df = pd.read_csv('../dados/NOTA_ENEM_2019_ESCOLA.csv', header=0, usecols=[1, 13], names=['cod inep','nota enem'], dtype={'cod inep':np.int64, 'nota enem':np.float64})\n",
    "\n",
    "# configurando codigo da escola como indice\n",
    "enem_df.set_index('cod inep', drop=True, inplace=True)\n",
    "enem_df.head()"
   ]
  },
  {
   "cell_type": "code",
   "execution_count": 34,
   "metadata": {},
   "outputs": [
    {
     "data": {
      "text/plain": [
       "False"
      ]
     },
     "execution_count": 34,
     "metadata": {},
     "output_type": "execute_result"
    }
   ],
   "source": [
    "any(enem_df.isna().sum() > 0)"
   ]
  },
  {
   "cell_type": "code",
   "execution_count": 35,
   "metadata": {},
   "outputs": [
    {
     "data": {
      "text/html": [
       "<div>\n",
       "<style scoped>\n",
       "    .dataframe tbody tr th:only-of-type {\n",
       "        vertical-align: middle;\n",
       "    }\n",
       "\n",
       "    .dataframe tbody tr th {\n",
       "        vertical-align: top;\n",
       "    }\n",
       "\n",
       "    .dataframe thead th {\n",
       "        text-align: right;\n",
       "    }\n",
       "</style>\n",
       "<table border=\"1\" class=\"dataframe\">\n",
       "  <thead>\n",
       "    <tr style=\"text-align: right;\">\n",
       "      <th></th>\n",
       "      <th>nota enem</th>\n",
       "    </tr>\n",
       "  </thead>\n",
       "  <tbody>\n",
       "    <tr>\n",
       "      <th>count</th>\n",
       "      <td>19598.000000</td>\n",
       "    </tr>\n",
       "    <tr>\n",
       "      <th>mean</th>\n",
       "      <td>518.917680</td>\n",
       "    </tr>\n",
       "    <tr>\n",
       "      <th>std</th>\n",
       "      <td>58.754365</td>\n",
       "    </tr>\n",
       "    <tr>\n",
       "      <th>min</th>\n",
       "      <td>360.460000</td>\n",
       "    </tr>\n",
       "    <tr>\n",
       "      <th>25%</th>\n",
       "      <td>478.460000</td>\n",
       "    </tr>\n",
       "    <tr>\n",
       "      <th>50%</th>\n",
       "      <td>503.760000</td>\n",
       "    </tr>\n",
       "    <tr>\n",
       "      <th>75%</th>\n",
       "      <td>547.030000</td>\n",
       "    </tr>\n",
       "    <tr>\n",
       "      <th>max</th>\n",
       "      <td>760.180000</td>\n",
       "    </tr>\n",
       "  </tbody>\n",
       "</table>\n",
       "</div>"
      ],
      "text/plain": [
       "          nota enem\n",
       "count  19598.000000\n",
       "mean     518.917680\n",
       "std       58.754365\n",
       "min      360.460000\n",
       "25%      478.460000\n",
       "50%      503.760000\n",
       "75%      547.030000\n",
       "max      760.180000"
      ]
     },
     "execution_count": 35,
     "metadata": {},
     "output_type": "execute_result"
    }
   ],
   "source": [
    "# estatisticas basicas para o conjunto de dados\n",
    "enem_df.describe()"
   ]
  },
  {
   "cell_type": "code",
   "execution_count": 36,
   "metadata": {},
   "outputs": [
    {
     "data": {
      "image/png": "[encoded data removed]",
      "text/plain": [
       "<Figure size 1080x576 with 2 Axes>"
      ]
     },
     "metadata": {
      "needs_background": "light"
     },
     "output_type": "display_data"
    }
   ],
   "source": [
    "# graficos para visualizar a distribuição dos dados\n",
    "fig, axs = plt.subplots(1, 2)\n",
    "fig.set_figheight(8)\n",
    "fig.set_figwidth(15)\n",
    "fig.suptitle('Notas do ENEM por escola')\n",
    "\n",
    "sns.boxplot(ax=axs[0], data=enem_df, y='nota enem')\n",
    "sns.histplot(ax=axs[1], data=enem_df, x='nota enem', bins=20)\n",
    "\n",
    "plt.show()"
   ]
  },
  {
   "cell_type": "markdown",
   "metadata": {},
   "source": [
    "---\n",
    "## Juntando datasets ##"
   ]
  },
  {
   "cell_type": "code",
   "execution_count": 37,
   "metadata": {},
   "outputs": [],
   "source": [
    "final_df = ed_basica_df.join(atu_df,how='inner')\n",
    "final_df = final_df.join(ied_df,how='inner')\n",
    "final_df = final_df.join(tdi_df,how='inner')\n",
    "final_df = final_df.join(had_df,how='inner')\n",
    "final_df = final_df.join(inse_df,how='left') # a maior parte das escolas privadas não possuem valor de Indice Nivel SocioEconomico (INSE)\n",
    "final_df = final_df.join(tre_df,how='inner')\n",
    "final_df = final_df.join(enem_df,how='inner')"
   ]
  },
  {
   "cell_type": "code",
   "execution_count": null,
   "metadata": {},
   "outputs": [],
   "source": [
    "# preenchendo o valor INSE das escolas que estão faltando com o maior valor de inse da cidade/micriregião\n",
    "final_df['valor inse'].fillna(final_df.groupby('co_municipio')['valor inse'].transform('max'), inplace=True)\n",
    "final_df['valor inse'].fillna(final_df.groupby('co_microrregiao')['valor inse'].transform('max'), inplace=True)"
   ]
  },
  {
   "cell_type": "code",
   "execution_count": null,
   "metadata": {},
   "outputs": [],
   "source": [
    "# salvando resultado do processamento dos dados em final.csv\n",
    "final_df.to_csv('dados/bruto.csv')"
   ]
  }
 ],
 "metadata": {
  "interpreter": {
   "hash": "d47ef6f4acde0282cffec8aa6ae083e281b750024c91683821052d54bd9b4e30"
  },
  "kernelspec": {
   "display_name": "Python 3.9.12 ('maratona')",
   "language": "python",
   "name": "python3"
  },
  "language_info": {
   "codemirror_mode": {
    "name": "ipython",
    "version": 3
   },
   "file_extension": ".py",
   "mimetype": "text/x-python",
   "name": "python",
   "nbconvert_exporter": "python",
   "pygments_lexer": "ipython3",
   "version": "3.9.12"
  },
  "orig_nbformat": 4
 },
 "nbformat": 4,
 "nbformat_minor": 2
}
