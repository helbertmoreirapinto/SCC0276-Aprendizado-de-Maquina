{
 "cells": [
  {
   "cell_type": "code",
   "execution_count": 1,
   "metadata": {},
   "outputs": [],
   "source": [
    "import time\n",
    "import pandas as pd\n",
    "import json\n",
    "\n",
    "from bs4 import BeautifulSoup\n",
    "from selenium import webdriver\n",
    "from selenium.webdriver.chrome.options import Options\n",
    "from selenium.webdriver.common.keys import Keys\n",
    "from webdriver_manager.chrome import ChromeDriverManager"
   ]
  },
  {
   "cell_type": "code",
   "execution_count": 2,
   "metadata": {},
   "outputs": [],
   "source": [
    "# configurações do sistema\n",
    "__LOADING_PAGE_TIME__ = 3\n",
    "options = Options()\n",
    "options.headless = False\n",
    "url = 'https://enem2019.evolucional.com.br/RD.html'\n",
    "\n",
    "media_colegio = pd.DataFrame()"
   ]
  },
  {
   "cell_type": "code",
   "execution_count": 3,
   "metadata": {},
   "outputs": [
    {
     "name": "stderr",
     "output_type": "stream",
     "text": [
      "\n",
      "\n",
      "====== WebDriver manager ======\n",
      "Current google-chrome version is 100.0.4896\n",
      "Get LATEST chromedriver version for 100.0.4896 google-chrome\n",
      "Driver [C:\\Users\\helbe\\.wdm\\drivers\\chromedriver\\win32\\100.0.4896.60\\chromedriver.exe] found in cache\n"
     ]
    }
   ],
   "source": [
    "# carrega pagina da web\n",
    "browser = webdriver.Chrome(ChromeDriverManager().install(), options=options)\n",
    "browser.get(url)"
   ]
  },
  {
   "cell_type": "code",
   "execution_count": 4,
   "metadata": {},
   "outputs": [],
   "source": [
    "# configurar para pegar 100 registros por vez\n",
    "time.sleep(__LOADING_PAGE_TIME__)\n",
    "combo = browser.find_elements_by_name('example_length')[0]\n",
    "combo.click()\n",
    "combo.send_keys(Keys.DOWN)\n",
    "combo.send_keys(Keys.ENTER)"
   ]
  },
  {
   "cell_type": "code",
   "execution_count": 5,
   "metadata": {},
   "outputs": [
    {
     "name": "stdout",
     "output_type": "stream",
     "text": [
      "100\n",
      "1600\n",
      "3100\n",
      "4600\n",
      "6100\n",
      "7600\n",
      "9100\n",
      "10600\n",
      "12100\n",
      "13600\n",
      "15100\n",
      "16600\n",
      "18100\n",
      "19598\n"
     ]
    }
   ],
   "source": [
    "# pega os registros exibidos na pagina e salva no conjunto de dados\n",
    "for i in range(196):\n",
    "    time.sleep(__LOADING_PAGE_TIME__)\n",
    "    conteudo = browser.find_elements_by_id('example')[0]\n",
    "    html_conteudo = conteudo.get_attribute('outerHTML')\n",
    "\n",
    "    table = BeautifulSoup(html_conteudo, 'html.parser').find(name='table')\n",
    "    df = pd.read_html(str(table))[0]\n",
    "    media_colegio = media_colegio.append(df).reset_index(drop=True)\n",
    "    if i % 15 == 0:\n",
    "        print(len(media_colegio))\n",
    "\n",
    "    bt_prox = browser.find_elements_by_id('example_next')[0]\n",
    "    bt_prox.click()\n",
    "media_colegio.set_index('Posição',drop=True,inplace=True)"
   ]
  },
  {
   "cell_type": "code",
   "execution_count": 12,
   "metadata": {},
   "outputs": [],
   "source": [
    "# salva o conjunto de dados em um .CSV\n",
    "media_colegio.to_csv('../dados/NOTA_ENEM_2019_ESCOLA.csv')"
   ]
  }
 ],
 "metadata": {
  "interpreter": {
   "hash": "ed6f02f97ee01a6c3122142d2d1c0f17e3472cfc3a9e7789ee8f0137303588a9"
  },
  "kernelspec": {
   "display_name": "Python 3.9.7 ('spotify-scrapper')",
   "language": "python",
   "name": "python3"
  },
  "language_info": {
   "codemirror_mode": {
    "name": "ipython",
    "version": 3
   },
   "file_extension": ".py",
   "mimetype": "text/x-python",
   "name": "python",
   "nbconvert_exporter": "python",
   "pygments_lexer": "ipython3",
   "version": "3.9.7"
  },
  "orig_nbformat": 4
 },
 "nbformat": 4,
 "nbformat_minor": 2
}
