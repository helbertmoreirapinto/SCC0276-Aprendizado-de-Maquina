{
 "cells": [
  {
   "cell_type": "markdown",
   "metadata": {},
   "source": [
    "---\n",
    "### Preparando os dados"
   ]
  },
  {
   "cell_type": "markdown",
   "metadata": {},
   "source": [
    "#### Import da base com todas as variáveis"
   ]
  },
  {
   "cell_type": "code",
   "execution_count": 1,
   "metadata": {},
   "outputs": [
    {
     "data": {
      "text/html": [
       "<div>\n",
       "<style scoped>\n",
       "    .dataframe tbody tr th:only-of-type {\n",
       "        vertical-align: middle;\n",
       "    }\n",
       "\n",
       "    .dataframe tbody tr th {\n",
       "        vertical-align: top;\n",
       "    }\n",
       "\n",
       "    .dataframe thead th {\n",
       "        text-align: right;\n",
       "    }\n",
       "</style>\n",
       "<table border=\"1\" class=\"dataframe\">\n",
       "  <thead>\n",
       "    <tr style=\"text-align: right;\">\n",
       "      <th></th>\n",
       "      <th>no_entidade</th>\n",
       "      <th>nota enem</th>\n",
       "    </tr>\n",
       "  </thead>\n",
       "  <tbody>\n",
       "    <tr>\n",
       "      <th>11024968</th>\n",
       "      <td>EEEMTI JUSCELINO KUBITSCHEK DE OLIVEIRA</td>\n",
       "      <td>539.94</td>\n",
       "    </tr>\n",
       "    <tr>\n",
       "      <th>11025638</th>\n",
       "      <td>EEEFM PADRE EZEQUIEL RAMIN</td>\n",
       "      <td>485.33</td>\n",
       "    </tr>\n",
       "    <tr>\n",
       "      <th>11006773</th>\n",
       "      <td>EEEFM CORA CORALINA</td>\n",
       "      <td>479.49</td>\n",
       "    </tr>\n",
       "    <tr>\n",
       "      <th>11006889</th>\n",
       "      <td>EEEFM ANISIO TEIXEIRA</td>\n",
       "      <td>468.94</td>\n",
       "    </tr>\n",
       "    <tr>\n",
       "      <th>11007168</th>\n",
       "      <td>COLEGIO TIRADENTES DA POLICIA MILITAR - CTPM III</td>\n",
       "      <td>482.38</td>\n",
       "    </tr>\n",
       "  </tbody>\n",
       "</table>\n",
       "</div>"
      ],
      "text/plain": [
       "                                               no_entidade  nota enem\n",
       "11024968           EEEMTI JUSCELINO KUBITSCHEK DE OLIVEIRA     539.94\n",
       "11025638                        EEEFM PADRE EZEQUIEL RAMIN     485.33\n",
       "11006773                               EEEFM CORA CORALINA     479.49\n",
       "11006889                             EEEFM ANISIO TEIXEIRA     468.94\n",
       "11007168  COLEGIO TIRADENTES DA POLICIA MILITAR - CTPM III     482.38"
      ]
     },
     "execution_count": 1,
     "metadata": {},
     "output_type": "execute_result"
    }
   ],
   "source": [
    "import pandas as pd\n",
    "\n",
    "df = pd.read_csv('dados/bruto.csv',index_col=0)\n",
    "df[['no_entidade','nota enem']].head()"
   ]
  },
  {
   "cell_type": "markdown",
   "metadata": {},
   "source": [
    "#### Tratarmento de colunas categoricas"
   ]
  },
  {
   "cell_type": "code",
   "execution_count": 2,
   "metadata": {},
   "outputs": [
    {
     "name": "stdout",
     "output_type": "stream",
     "text": [
      "<class 'pandas.core.frame.DataFrame'>\n",
      "Int64Index: 19022 entries, 11024968 to 53082001\n",
      "Columns: 187 entries, co_regiao to nota enem\n",
      "dtypes: float64(14), int64(48), object(125)\n",
      "memory usage: 27.3+ MB\n"
     ]
    }
   ],
   "source": [
    "df.info()"
   ]
  },
  {
   "cell_type": "markdown",
   "metadata": {},
   "source": [
    "##### Informações de localização"
   ]
  },
  {
   "cell_type": "markdown",
   "metadata": {},
   "source": [
    "Como temos Indice de Nivel Socioeconomico (INSE) por escola, achamos que informações relacionadas à localização não sejam relavantes, pois fatores relacionado ao desenvolvimento do municipio já foi levado em consideração no calculo do indicador."
   ]
  },
  {
   "cell_type": "code",
   "execution_count": 3,
   "metadata": {},
   "outputs": [
    {
     "name": "stdout",
     "output_type": "stream",
     "text": [
      "<class 'pandas.core.frame.DataFrame'>\n",
      "Int64Index: 19022 entries, 11024968 to 53082001\n",
      "Columns: 182 entries, no_entidade to nota enem\n",
      "dtypes: float64(14), int64(43), object(125)\n",
      "memory usage: 26.6+ MB\n"
     ]
    }
   ],
   "source": [
    "cols_localizacao = ['co_regiao','co_uf','co_municipio','co_mesorregiao','co_microrregiao']\n",
    "df.drop(columns=cols_localizacao, inplace=True)\n",
    "df.info()"
   ]
  },
  {
   "cell_type": "markdown",
   "metadata": {},
   "source": [
    "##### Indicadores de presença de equipamentos"
   ]
  },
  {
   "cell_type": "code",
   "execution_count": 4,
   "metadata": {},
   "outputs": [
    {
     "name": "stdout",
     "output_type": "stream",
     "text": [
      "<class 'pandas.core.frame.DataFrame'>\n",
      "Int64Index: 19022 entries, 11024968 to 53082001\n",
      "Columns: 182 entries, no_entidade to nota enem\n",
      "dtypes: category(21), float64(14), int64(43), object(104)\n",
      "memory usage: 23.9+ MB\n"
     ]
    }
   ],
   "source": [
    "cols_in_equipamentos = [\n",
    "    'in_internet','in_internet_alunos','in_internet_administrativo','in_internet_aprendizagem',\n",
    "    'in_internet_comunidade','in_acesso_internet_computador','in_aces_internet_disp_pessoais',\n",
    "    'in_equip_scanner','in_banda_larga','in_material_ped_multimidia','in_material_ped_infantil',\n",
    "    'in_material_ped_cientifico','in_material_ped_difusao','in_material_ped_musical',\n",
    "    'in_material_ped_jogos','in_material_ped_artisticas','in_material_ped_desportiva',\n",
    "    'in_material_ped_indigena','in_material_ped_etnico','in_material_ped_campo','tp_rede_local'\n",
    "]\n",
    "df[cols_in_equipamentos] = df[cols_in_equipamentos].astype('category')\n",
    "df.info()"
   ]
  },
  {
   "cell_type": "markdown",
   "metadata": {},
   "source": [
    "##### Indicadores relacionados à estrutura"
   ]
  },
  {
   "cell_type": "code",
   "execution_count": 5,
   "metadata": {},
   "outputs": [
    {
     "name": "stdout",
     "output_type": "stream",
     "text": [
      "<class 'pandas.core.frame.DataFrame'>\n",
      "Int64Index: 19022 entries, 11024968 to 53082001\n",
      "Columns: 182 entries, no_entidade to nota enem\n",
      "dtypes: category(79), float64(14), int64(43), object(46)\n",
      "memory usage: 16.5+ MB\n"
     ]
    }
   ],
   "source": [
    "cols_in_estrutura = [\n",
    "    'in_vinculo_secretaria_educacao','in_vinculo_seguranca_publica','in_vinculo_secretaria_saude',\n",
    "    'in_vinculo_outro_orgao','in_conveniada_pp','in_mant_escola_privada_emp','in_mant_escola_privada_ong',\n",
    "    'in_mant_escola_privada_oscip','in_mant_escola_priv_ong_oscip','in_mant_escola_privada_sind',\n",
    "    'in_mant_escola_privada_sist_s','in_mant_escola_privada_s_fins','in_local_func_predio_escolar',\n",
    "    'in_local_func_socioeducativo','in_local_func_unid_prisional','in_local_func_prisional_socio',\n",
    "    'in_local_func_galpao','in_local_func_salas_outra_esc','in_local_func_outros','in_predio_compartilhado',\n",
    "    'in_agua_potavel','in_energia_rede_publica','in_esgoto_rede_publica','in_almoxarifado','in_area_verde',\n",
    "    'in_auditorio','in_banheiro','in_banheiro_funcionarios','in_banheiro_chuveiro','in_biblioteca',\n",
    "    'in_biblioteca_sala_leitura','in_cozinha','in_dormitorio_aluno','in_dormitorio_professor',\n",
    "    'in_laboratorio_ciencias','in_laboratorio_informatica','in_parque_infantil','in_piscina','in_quadra_esportes',\n",
    "    'in_refeitorio','in_sala_atelie_artes','in_sala_musica_coral','in_sala_estudio_danca','in_sala_multiuso',\n",
    "    'in_sala_diretoria','in_sala_leitura','in_sala_professor','in_sala_repouso_aluno','in_secretaria',\n",
    "    'in_terreirao','in_viveiro','in_dependencias_outras','in_alimentacao','tp_categoria_escola_privada',\n",
    "    'tp_localizacao','tp_localizacao_diferenciada','tp_ocupacao_galpao','tp_ocupacao_predio_escolar'\n",
    "]\n",
    "df[cols_in_estrutura] = df[cols_in_estrutura].astype('category')\n",
    "df.info()"
   ]
  },
  {
   "cell_type": "markdown",
   "metadata": {},
   "source": [
    "##### Indicadores relacionados à administração"
   ]
  },
  {
   "cell_type": "code",
   "execution_count": 6,
   "metadata": {},
   "outputs": [
    {
     "name": "stdout",
     "output_type": "stream",
     "text": [
      "<class 'pandas.core.frame.DataFrame'>\n",
      "Int64Index: 19022 entries, 11024968 to 53082001\n",
      "Columns: 182 entries, no_entidade to nota enem\n",
      "dtypes: category(124), float64(14), int64(43), object(1)\n",
      "memory usage: 10.8+ MB\n"
     ]
    }
   ],
   "source": [
    "cols_in_administracao = [\n",
    "    'in_serie_ano','in_periodos_semestrais','in_fundamental_ciclos','in_grupos_nao_seriados',\n",
    "    'in_modulos','in_formacao_alternancia','in_educacao_indigena','in_exame_selecao','in_reserva_ppi',\n",
    "    'in_reserva_renda','in_reserva_publica','in_reserva_pcd','in_reserva_outros','in_reserva_nenhuma',\n",
    "    'in_redes_sociais','in_espaco_atividade','in_espaco_equipamento','in_orgao_ass_pais',\n",
    "    'in_orgao_ass_pais_mestres','in_orgao_conselho_escolar','in_orgao_gremio_estudantil','in_orgao_outros',\n",
    "    'in_orgao_nenhum','in_diurno','in_noturno','in_ead','in_bas','in_inf','in_inf_cre','in_inf_pre',\n",
    "    'in_fund','in_fund_ai','in_fund_af','in_med','in_prof','in_prof_tec','in_eja','in_eja_fund','in_eja_med',\n",
    "    'in_esp','in_esp_cc','in_esp_ce','tp_convenio_poder_publico','tp_dependencia','tp_lingua'\n",
    "]\n",
    "df[cols_in_administracao] = df[cols_in_administracao].astype('category')\n",
    "df.info()"
   ]
  },
  {
   "cell_type": "markdown",
   "metadata": {},
   "source": [
    "##### Demais colunas não categoricas/numéricas"
   ]
  },
  {
   "cell_type": "markdown",
   "metadata": {},
   "source": [
    "O nome da escola não é relevante para determinar qual nota no ENEM a escola obteve, portanto iremos removê-la do nosso dataset."
   ]
  },
  {
   "cell_type": "code",
   "execution_count": 7,
   "metadata": {},
   "outputs": [
    {
     "name": "stdout",
     "output_type": "stream",
     "text": [
      "<class 'pandas.core.frame.DataFrame'>\n",
      "Int64Index: 19022 entries, 11024968 to 53082001\n",
      "Columns: 181 entries, tp_dependencia to nota enem\n",
      "dtypes: category(124), float64(14), int64(43)\n",
      "memory usage: 10.7 MB\n"
     ]
    }
   ],
   "source": [
    "df.drop(columns='no_entidade',inplace=True)\n",
    "df.info()"
   ]
  },
  {
   "cell_type": "markdown",
   "metadata": {},
   "source": [
    "##### Variáveis categoricas para numericas"
   ]
  },
  {
   "cell_type": "code",
   "execution_count": 8,
   "metadata": {},
   "outputs": [
    {
     "name": "stdout",
     "output_type": "stream",
     "text": [
      "<class 'pandas.core.frame.DataFrame'>\n",
      "Int64Index: 19022 entries, 11024968 to 53082001\n",
      "Columns: 219 entries, qt_salas_utilizadas to tp_lingua_portugues\n",
      "dtypes: float64(14), int64(43), uint8(162)\n",
      "memory usage: 11.4 MB\n"
     ]
    }
   ],
   "source": [
    "df = pd.get_dummies(df, drop_first=True)\n",
    "df.info()"
   ]
  },
  {
   "cell_type": "code",
   "execution_count": 9,
   "metadata": {},
   "outputs": [],
   "source": [
    "df.to_csv('dados/final.csv')"
   ]
  }
 ],
 "metadata": {
  "kernelspec": {
   "display_name": "Python 3.9.12 ('machine-learning')",
   "language": "python",
   "name": "python3"
  },
  "language_info": {
   "codemirror_mode": {
    "name": "ipython",
    "version": 3
   },
   "file_extension": ".py",
   "mimetype": "text/x-python",
   "name": "python",
   "nbconvert_exporter": "python",
   "pygments_lexer": "ipython3",
   "version": "3.9.12"
  },
  "orig_nbformat": 4,
  "vscode": {
   "interpreter": {
    "hash": "67feba2d08d7d2d3d2049c90e6d0af519e1d9fff8ed92e0200e968d7f52bef8b"
   }
  }
 },
 "nbformat": 4,
 "nbformat_minor": 2
}
