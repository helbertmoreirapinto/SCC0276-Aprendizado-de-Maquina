{
 "cells": [
  {
   "cell_type": "markdown",
   "metadata": {},
   "source": [
    "---\n",
    "### Preparando os dados"
   ]
  },
  {
   "cell_type": "markdown",
   "metadata": {},
   "source": [
    "#### Import da base com todas as variáveis"
   ]
  },
  {
   "cell_type": "code",
   "execution_count": 1,
   "metadata": {},
   "outputs": [],
   "source": [
    "import pandas as pd"
   ]
  },
  {
   "cell_type": "code",
   "execution_count": 2,
   "metadata": {},
   "outputs": [
    {
     "data": {
      "text/html": [
       "<div>\n",
       "<style scoped>\n",
       "    .dataframe tbody tr th:only-of-type {\n",
       "        vertical-align: middle;\n",
       "    }\n",
       "\n",
       "    .dataframe tbody tr th {\n",
       "        vertical-align: top;\n",
       "    }\n",
       "\n",
       "    .dataframe thead th {\n",
       "        text-align: right;\n",
       "    }\n",
       "</style>\n",
       "<table border=\"1\" class=\"dataframe\">\n",
       "  <thead>\n",
       "    <tr style=\"text-align: right;\">\n",
       "      <th></th>\n",
       "      <th>no_entidade</th>\n",
       "      <th>nota enem</th>\n",
       "    </tr>\n",
       "  </thead>\n",
       "  <tbody>\n",
       "    <tr>\n",
       "      <th>0</th>\n",
       "      <td>EEEMTI JUSCELINO KUBITSCHEK DE OLIVEIRA</td>\n",
       "      <td>539.94</td>\n",
       "    </tr>\n",
       "    <tr>\n",
       "      <th>1</th>\n",
       "      <td>EEEFM PADRE EZEQUIEL RAMIN</td>\n",
       "      <td>485.33</td>\n",
       "    </tr>\n",
       "    <tr>\n",
       "      <th>2</th>\n",
       "      <td>EEEFM CORA CORALINA</td>\n",
       "      <td>479.49</td>\n",
       "    </tr>\n",
       "    <tr>\n",
       "      <th>3</th>\n",
       "      <td>EEEFM ANISIO TEIXEIRA</td>\n",
       "      <td>468.94</td>\n",
       "    </tr>\n",
       "    <tr>\n",
       "      <th>4</th>\n",
       "      <td>COLEGIO TIRADENTES DA POLICIA MILITAR - CTPM III</td>\n",
       "      <td>482.38</td>\n",
       "    </tr>\n",
       "  </tbody>\n",
       "</table>\n",
       "</div>"
      ],
      "text/plain": [
       "                                        no_entidade  nota enem\n",
       "0           EEEMTI JUSCELINO KUBITSCHEK DE OLIVEIRA     539.94\n",
       "1                        EEEFM PADRE EZEQUIEL RAMIN     485.33\n",
       "2                               EEEFM CORA CORALINA     479.49\n",
       "3                             EEEFM ANISIO TEIXEIRA     468.94\n",
       "4  COLEGIO TIRADENTES DA POLICIA MILITAR - CTPM III     482.38"
      ]
     },
     "execution_count": 2,
     "metadata": {},
     "output_type": "execute_result"
    }
   ],
   "source": [
    "dataframe = pd.read_csv('dados/final.csv')\n",
    "dataframe[['no_entidade','nota enem']].head()"
   ]
  },
  {
   "cell_type": "markdown",
   "metadata": {},
   "source": [
    "#### Tratarmento de colunas categoricas"
   ]
  },
  {
   "cell_type": "code",
   "execution_count": 3,
   "metadata": {},
   "outputs": [
    {
     "name": "stdout",
     "output_type": "stream",
     "text": [
      "<class 'pandas.core.frame.DataFrame'>\n",
      "RangeIndex: 19022 entries, 0 to 19021\n",
      "Columns: 188 entries, Unnamed: 0 to nota enem\n",
      "dtypes: float64(14), int64(49), object(125)\n",
      "memory usage: 27.3+ MB\n"
     ]
    }
   ],
   "source": [
    "dataframe.info()"
   ]
  },
  {
   "cell_type": "markdown",
   "metadata": {},
   "source": [
    "##### Informações de localização"
   ]
  },
  {
   "cell_type": "markdown",
   "metadata": {},
   "source": [
    "Como temos Indice de Nivel Socioeconomico (INSE) por escola, achamos que informações relacionadas à localização não sejam relavantes, pois fatores relacionado ao desenvolvimento do municipio já foi levado em consideração no calculo do indicador."
   ]
  },
  {
   "cell_type": "code",
   "execution_count": 4,
   "metadata": {},
   "outputs": [
    {
     "name": "stdout",
     "output_type": "stream",
     "text": [
      "<class 'pandas.core.frame.DataFrame'>\n",
      "RangeIndex: 19022 entries, 0 to 19021\n",
      "Columns: 183 entries, Unnamed: 0 to nota enem\n",
      "dtypes: float64(14), int64(44), object(125)\n",
      "memory usage: 26.6+ MB\n"
     ]
    }
   ],
   "source": [
    "cols_localizacao = ['co_regiao','co_uf','co_municipio','co_mesorregiao','co_microrregiao']\n",
    "dataframe.drop(columns=cols_localizacao, inplace=True)\n",
    "dataframe.info()"
   ]
  },
  {
   "cell_type": "markdown",
   "metadata": {},
   "source": [
    "##### Indicadores de presença de equipamentos"
   ]
  },
  {
   "cell_type": "code",
   "execution_count": 5,
   "metadata": {},
   "outputs": [
    {
     "name": "stdout",
     "output_type": "stream",
     "text": [
      "<class 'pandas.core.frame.DataFrame'>\n",
      "RangeIndex: 19022 entries, 0 to 19021\n",
      "Columns: 183 entries, Unnamed: 0 to nota enem\n",
      "dtypes: category(21), float64(14), int64(44), object(104)\n",
      "memory usage: 23.9+ MB\n"
     ]
    }
   ],
   "source": [
    "cols_in_equipamentos = [\n",
    "    'in_internet','in_internet_alunos','in_internet_administrativo','in_internet_aprendizagem',\n",
    "    'in_internet_comunidade','in_acesso_internet_computador','in_aces_internet_disp_pessoais',\n",
    "    'in_equip_scanner','in_banda_larga','in_material_ped_multimidia','in_material_ped_infantil',\n",
    "    'in_material_ped_cientifico','in_material_ped_difusao','in_material_ped_musical',\n",
    "    'in_material_ped_jogos','in_material_ped_artisticas','in_material_ped_desportiva',\n",
    "    'in_material_ped_indigena','in_material_ped_etnico','in_material_ped_campo','tp_rede_local'\n",
    "]\n",
    "dataframe[cols_in_equipamentos] = dataframe[cols_in_equipamentos].astype('category')\n",
    "dataframe.info()"
   ]
  },
  {
   "cell_type": "markdown",
   "metadata": {},
   "source": [
    "##### Indicadores relacionados à estrutura"
   ]
  },
  {
   "cell_type": "code",
   "execution_count": 6,
   "metadata": {},
   "outputs": [
    {
     "name": "stdout",
     "output_type": "stream",
     "text": [
      "<class 'pandas.core.frame.DataFrame'>\n",
      "RangeIndex: 19022 entries, 0 to 19021\n",
      "Columns: 183 entries, Unnamed: 0 to nota enem\n",
      "dtypes: category(79), float64(14), int64(44), object(46)\n",
      "memory usage: 16.5+ MB\n"
     ]
    }
   ],
   "source": [
    "cols_in_estrutura = [\n",
    "    'in_vinculo_secretaria_educacao','in_vinculo_seguranca_publica','in_vinculo_secretaria_saude',\n",
    "    'in_vinculo_outro_orgao','in_conveniada_pp','in_mant_escola_privada_emp','in_mant_escola_privada_ong',\n",
    "    'in_mant_escola_privada_oscip','in_mant_escola_priv_ong_oscip','in_mant_escola_privada_sind',\n",
    "    'in_mant_escola_privada_sist_s','in_mant_escola_privada_s_fins','in_local_func_predio_escolar',\n",
    "    'in_local_func_socioeducativo','in_local_func_unid_prisional','in_local_func_prisional_socio',\n",
    "    'in_local_func_galpao','in_local_func_salas_outra_esc','in_local_func_outros','in_predio_compartilhado',\n",
    "    'in_agua_potavel','in_energia_rede_publica','in_esgoto_rede_publica','in_almoxarifado','in_area_verde',\n",
    "    'in_auditorio','in_banheiro','in_banheiro_funcionarios','in_banheiro_chuveiro','in_biblioteca',\n",
    "    'in_biblioteca_sala_leitura','in_cozinha','in_dormitorio_aluno','in_dormitorio_professor',\n",
    "    'in_laboratorio_ciencias','in_laboratorio_informatica','in_parque_infantil','in_piscina','in_quadra_esportes',\n",
    "    'in_refeitorio','in_sala_atelie_artes','in_sala_musica_coral','in_sala_estudio_danca','in_sala_multiuso',\n",
    "    'in_sala_diretoria','in_sala_leitura','in_sala_professor','in_sala_repouso_aluno','in_secretaria',\n",
    "    'in_terreirao','in_viveiro','in_dependencias_outras','in_alimentacao','tp_categoria_escola_privada',\n",
    "    'tp_localizacao','tp_localizacao_diferenciada','tp_ocupacao_galpao','tp_ocupacao_predio_escolar'\n",
    "]\n",
    "dataframe[cols_in_estrutura] = dataframe[cols_in_estrutura].astype('category')\n",
    "dataframe.info()"
   ]
  },
  {
   "cell_type": "markdown",
   "metadata": {},
   "source": [
    "##### Indicadores relacionados à administração"
   ]
  },
  {
   "cell_type": "code",
   "execution_count": 7,
   "metadata": {},
   "outputs": [
    {
     "name": "stdout",
     "output_type": "stream",
     "text": [
      "<class 'pandas.core.frame.DataFrame'>\n",
      "RangeIndex: 19022 entries, 0 to 19021\n",
      "Columns: 183 entries, Unnamed: 0 to nota enem\n",
      "dtypes: category(124), float64(14), int64(44), object(1)\n",
      "memory usage: 10.8+ MB\n"
     ]
    }
   ],
   "source": [
    "cols_in_administracao = [\n",
    "    'in_serie_ano','in_periodos_semestrais','in_fundamental_ciclos','in_grupos_nao_seriados',\n",
    "    'in_modulos','in_formacao_alternancia','in_educacao_indigena','in_exame_selecao','in_reserva_ppi',\n",
    "    'in_reserva_renda','in_reserva_publica','in_reserva_pcd','in_reserva_outros','in_reserva_nenhuma',\n",
    "    'in_redes_sociais','in_espaco_atividade','in_espaco_equipamento','in_orgao_ass_pais',\n",
    "    'in_orgao_ass_pais_mestres','in_orgao_conselho_escolar','in_orgao_gremio_estudantil','in_orgao_outros',\n",
    "    'in_orgao_nenhum','in_diurno','in_noturno','in_ead','in_bas','in_inf','in_inf_cre','in_inf_pre',\n",
    "    'in_fund','in_fund_ai','in_fund_af','in_med','in_prof','in_prof_tec','in_eja','in_eja_fund','in_eja_med',\n",
    "    'in_esp','in_esp_cc','in_esp_ce','tp_convenio_poder_publico','tp_dependencia','tp_lingua'\n",
    "]\n",
    "dataframe[cols_in_administracao] = dataframe[cols_in_administracao].astype('category')\n",
    "dataframe.info()"
   ]
  },
  {
   "cell_type": "markdown",
   "metadata": {},
   "source": [
    "##### Demais colunas não categoricas/numéricas"
   ]
  },
  {
   "cell_type": "markdown",
   "metadata": {},
   "source": [
    "O nome da escola não é relevante para determinar qual nota no ENEM a escola obteve, portanto iremos removê-la do nosso dataset."
   ]
  },
  {
   "cell_type": "code",
   "execution_count": 8,
   "metadata": {},
   "outputs": [
    {
     "name": "stdout",
     "output_type": "stream",
     "text": [
      "<class 'pandas.core.frame.DataFrame'>\n",
      "RangeIndex: 19022 entries, 0 to 19021\n",
      "Columns: 182 entries, Unnamed: 0 to nota enem\n",
      "dtypes: category(124), float64(14), int64(44)\n",
      "memory usage: 10.7 MB\n"
     ]
    }
   ],
   "source": [
    "dataframe.drop(columns='no_entidade',inplace=True)\n",
    "dataframe.info()"
   ]
  },
  {
   "cell_type": "markdown",
   "metadata": {},
   "source": [
    "##### Variáveis categoricas para numericas"
   ]
  },
  {
   "cell_type": "code",
   "execution_count": 9,
   "metadata": {},
   "outputs": [
    {
     "name": "stdout",
     "output_type": "stream",
     "text": [
      "<class 'pandas.core.frame.DataFrame'>\n",
      "RangeIndex: 19022 entries, 0 to 19021\n",
      "Columns: 220 entries, Unnamed: 0 to tp_lingua_portugues\n",
      "dtypes: float64(14), int64(44), uint8(162)\n",
      "memory usage: 11.4 MB\n"
     ]
    }
   ],
   "source": [
    "dataframe = pd.get_dummies(dataframe, drop_first=True)\n",
    "dataframe.info()"
   ]
  },
  {
   "cell_type": "code",
   "execution_count": 10,
   "metadata": {},
   "outputs": [
    {
     "data": {
      "text/plain": [
       "<AxesSubplot:xlabel='valor inse', ylabel='nota enem'>"
      ]
     },
     "execution_count": 10,
     "metadata": {},
     "output_type": "execute_result"
    },
    {
     "data": {
      "image/png": "[encoded data removed]",
      "text/plain": [
       "<Figure size 432x288 with 1 Axes>"
      ]
     },
     "metadata": {
      "needs_background": "light"
     },
     "output_type": "display_data"
    }
   ],
   "source": [
    "#apagar\n",
    "import seaborn as sns\n",
    "sns.scatterplot(data=dataframe, x='valor inse', y='nota enem')"
   ]
  },
  {
   "cell_type": "code",
   "execution_count": 11,
   "metadata": {},
   "outputs": [
    {
     "data": {
      "text/plain": [
       "<seaborn.axisgrid.FacetGrid at 0x1dd64a78700>"
      ]
     },
     "execution_count": 11,
     "metadata": {},
     "output_type": "execute_result"
    },
    {
     "data": {
      "image/png": "[encoded data removed]",
      "text/plain": [
       "<Figure size 360x360 with 1 Axes>"
      ]
     },
     "metadata": {
      "needs_background": "light"
     },
     "output_type": "display_data"
    }
   ],
   "source": [
    "sns.displot(data=dataframe, x='taxa distorcao idade serie', kind='hist')"
   ]
  },
  {
   "cell_type": "markdown",
   "metadata": {},
   "source": [
    "#### Normalização"
   ]
  },
  {
   "cell_type": "markdown",
   "metadata": {},
   "source": [
    "Como a maior parte das variaveis são binarias, podemos aplicar a normalização MinMaxScaler (não temos outliers significativos)."
   ]
  },
  {
   "cell_type": "code",
   "execution_count": 12,
   "metadata": {},
   "outputs": [
    {
     "data": {
      "text/html": [
       "<div>\n",
       "<style scoped>\n",
       "    .dataframe tbody tr th:only-of-type {\n",
       "        vertical-align: middle;\n",
       "    }\n",
       "\n",
       "    .dataframe tbody tr th {\n",
       "        vertical-align: top;\n",
       "    }\n",
       "\n",
       "    .dataframe thead th {\n",
       "        text-align: right;\n",
       "    }\n",
       "</style>\n",
       "<table border=\"1\" class=\"dataframe\">\n",
       "  <thead>\n",
       "    <tr style=\"text-align: right;\">\n",
       "      <th></th>\n",
       "      <th>Unnamed: 0</th>\n",
       "      <th>qt_salas_utilizadas</th>\n",
       "      <th>qt_salas_utiliza_climatizadas</th>\n",
       "      <th>qt_equip_dvd</th>\n",
       "      <th>qt_equip_som</th>\n",
       "      <th>qt_equip_tv</th>\n",
       "      <th>qt_equip_lousa_digital</th>\n",
       "      <th>qt_equip_multimidia</th>\n",
       "      <th>qt_desktop_aluno</th>\n",
       "      <th>qt_comp_portatil_aluno</th>\n",
       "      <th>...</th>\n",
       "      <th>in_prof_sim</th>\n",
       "      <th>in_prof_tec_sim</th>\n",
       "      <th>in_eja_sim</th>\n",
       "      <th>in_eja_fund_sim</th>\n",
       "      <th>in_eja_med_sim</th>\n",
       "      <th>in_esp_sim</th>\n",
       "      <th>in_esp_cc_sim</th>\n",
       "      <th>in_esp_ce_sim</th>\n",
       "      <th>tp_lingua_indigena</th>\n",
       "      <th>tp_lingua_portugues</th>\n",
       "    </tr>\n",
       "  </thead>\n",
       "  <tbody>\n",
       "    <tr>\n",
       "      <th>0</th>\n",
       "      <td>0.000592</td>\n",
       "      <td>0.062780</td>\n",
       "      <td>0.117188</td>\n",
       "      <td>0.013514</td>\n",
       "      <td>0.007143</td>\n",
       "      <td>0.023256</td>\n",
       "      <td>0.03</td>\n",
       "      <td>0.058824</td>\n",
       "      <td>0.008571</td>\n",
       "      <td>0.000000</td>\n",
       "      <td>...</td>\n",
       "      <td>0.0</td>\n",
       "      <td>0.0</td>\n",
       "      <td>0.0</td>\n",
       "      <td>0.0</td>\n",
       "      <td>0.0</td>\n",
       "      <td>0.0</td>\n",
       "      <td>0.0</td>\n",
       "      <td>0.0</td>\n",
       "      <td>0.0</td>\n",
       "      <td>1.0</td>\n",
       "    </tr>\n",
       "    <tr>\n",
       "      <th>1</th>\n",
       "      <td>0.000608</td>\n",
       "      <td>0.192825</td>\n",
       "      <td>0.242188</td>\n",
       "      <td>0.013514</td>\n",
       "      <td>0.014286</td>\n",
       "      <td>0.162791</td>\n",
       "      <td>0.00</td>\n",
       "      <td>0.088235</td>\n",
       "      <td>0.015714</td>\n",
       "      <td>0.014851</td>\n",
       "      <td>...</td>\n",
       "      <td>0.0</td>\n",
       "      <td>0.0</td>\n",
       "      <td>0.0</td>\n",
       "      <td>0.0</td>\n",
       "      <td>0.0</td>\n",
       "      <td>1.0</td>\n",
       "      <td>1.0</td>\n",
       "      <td>0.0</td>\n",
       "      <td>0.0</td>\n",
       "      <td>1.0</td>\n",
       "    </tr>\n",
       "    <tr>\n",
       "      <th>2</th>\n",
       "      <td>0.000160</td>\n",
       "      <td>0.107623</td>\n",
       "      <td>0.000000</td>\n",
       "      <td>0.000000</td>\n",
       "      <td>0.007143</td>\n",
       "      <td>0.085271</td>\n",
       "      <td>0.00</td>\n",
       "      <td>0.035294</td>\n",
       "      <td>0.017857</td>\n",
       "      <td>0.000000</td>\n",
       "      <td>...</td>\n",
       "      <td>0.0</td>\n",
       "      <td>0.0</td>\n",
       "      <td>1.0</td>\n",
       "      <td>0.0</td>\n",
       "      <td>1.0</td>\n",
       "      <td>1.0</td>\n",
       "      <td>1.0</td>\n",
       "      <td>0.0</td>\n",
       "      <td>0.0</td>\n",
       "      <td>1.0</td>\n",
       "    </tr>\n",
       "    <tr>\n",
       "      <th>3</th>\n",
       "      <td>0.000162</td>\n",
       "      <td>0.071749</td>\n",
       "      <td>0.132812</td>\n",
       "      <td>0.054054</td>\n",
       "      <td>0.028571</td>\n",
       "      <td>0.031008</td>\n",
       "      <td>0.00</td>\n",
       "      <td>0.029412</td>\n",
       "      <td>0.008571</td>\n",
       "      <td>0.000000</td>\n",
       "      <td>...</td>\n",
       "      <td>0.0</td>\n",
       "      <td>0.0</td>\n",
       "      <td>0.0</td>\n",
       "      <td>0.0</td>\n",
       "      <td>0.0</td>\n",
       "      <td>1.0</td>\n",
       "      <td>1.0</td>\n",
       "      <td>0.0</td>\n",
       "      <td>0.0</td>\n",
       "      <td>1.0</td>\n",
       "    </tr>\n",
       "    <tr>\n",
       "      <th>4</th>\n",
       "      <td>0.000169</td>\n",
       "      <td>0.076233</td>\n",
       "      <td>0.140625</td>\n",
       "      <td>0.000000</td>\n",
       "      <td>0.000000</td>\n",
       "      <td>0.023256</td>\n",
       "      <td>0.02</td>\n",
       "      <td>0.058824</td>\n",
       "      <td>0.002857</td>\n",
       "      <td>0.006931</td>\n",
       "      <td>...</td>\n",
       "      <td>0.0</td>\n",
       "      <td>0.0</td>\n",
       "      <td>0.0</td>\n",
       "      <td>0.0</td>\n",
       "      <td>0.0</td>\n",
       "      <td>1.0</td>\n",
       "      <td>1.0</td>\n",
       "      <td>0.0</td>\n",
       "      <td>0.0</td>\n",
       "      <td>1.0</td>\n",
       "    </tr>\n",
       "  </tbody>\n",
       "</table>\n",
       "<p>5 rows × 220 columns</p>\n",
       "</div>"
      ],
      "text/plain": [
       "   Unnamed: 0  qt_salas_utilizadas  qt_salas_utiliza_climatizadas  \\\n",
       "0    0.000592             0.062780                       0.117188   \n",
       "1    0.000608             0.192825                       0.242188   \n",
       "2    0.000160             0.107623                       0.000000   \n",
       "3    0.000162             0.071749                       0.132812   \n",
       "4    0.000169             0.076233                       0.140625   \n",
       "\n",
       "   qt_equip_dvd  qt_equip_som  qt_equip_tv  qt_equip_lousa_digital  \\\n",
       "0      0.013514      0.007143     0.023256                    0.03   \n",
       "1      0.013514      0.014286     0.162791                    0.00   \n",
       "2      0.000000      0.007143     0.085271                    0.00   \n",
       "3      0.054054      0.028571     0.031008                    0.00   \n",
       "4      0.000000      0.000000     0.023256                    0.02   \n",
       "\n",
       "   qt_equip_multimidia  qt_desktop_aluno  qt_comp_portatil_aluno  ...  \\\n",
       "0             0.058824          0.008571                0.000000  ...   \n",
       "1             0.088235          0.015714                0.014851  ...   \n",
       "2             0.035294          0.017857                0.000000  ...   \n",
       "3             0.029412          0.008571                0.000000  ...   \n",
       "4             0.058824          0.002857                0.006931  ...   \n",
       "\n",
       "   in_prof_sim  in_prof_tec_sim  in_eja_sim  in_eja_fund_sim  in_eja_med_sim  \\\n",
       "0          0.0              0.0         0.0              0.0             0.0   \n",
       "1          0.0              0.0         0.0              0.0             0.0   \n",
       "2          0.0              0.0         1.0              0.0             1.0   \n",
       "3          0.0              0.0         0.0              0.0             0.0   \n",
       "4          0.0              0.0         0.0              0.0             0.0   \n",
       "\n",
       "   in_esp_sim  in_esp_cc_sim  in_esp_ce_sim  tp_lingua_indigena  \\\n",
       "0         0.0            0.0            0.0                 0.0   \n",
       "1         1.0            1.0            0.0                 0.0   \n",
       "2         1.0            1.0            0.0                 0.0   \n",
       "3         1.0            1.0            0.0                 0.0   \n",
       "4         1.0            1.0            0.0                 0.0   \n",
       "\n",
       "   tp_lingua_portugues  \n",
       "0                  1.0  \n",
       "1                  1.0  \n",
       "2                  1.0  \n",
       "3                  1.0  \n",
       "4                  1.0  \n",
       "\n",
       "[5 rows x 220 columns]"
      ]
     },
     "execution_count": 12,
     "metadata": {},
     "output_type": "execute_result"
    }
   ],
   "source": [
    "from sklearn.preprocessing import MinMaxScaler\n",
    "scaler = MinMaxScaler()\n",
    "scaler.fit(dataframe)\n",
    "df_norm = scaler.transform(dataframe)\n",
    "df_norm = pd.DataFrame(df_norm, columns=dataframe.columns)\n",
    "df_norm.head()"
   ]
  },
  {
   "cell_type": "markdown",
   "metadata": {},
   "source": [
    "Divisão Treino / Teste"
   ]
  },
  {
   "cell_type": "code",
   "execution_count": 13,
   "metadata": {},
   "outputs": [
    {
     "name": "stdout",
     "output_type": "stream",
     "text": [
      "(19022, 219) (19022,)\n"
     ]
    }
   ],
   "source": [
    "import numpy as np\n",
    "df_norm = df_norm.sample(frac=1)\n",
    "y = df_norm['nota enem']\n",
    "X = df_norm.drop(columns=['nota enem'])\n",
    "print(X.shape, y.shape)\n",
    "\n",
    "\n",
    "X, y = np.array(X), np.array(y)"
   ]
  },
  {
   "cell_type": "markdown",
   "metadata": {},
   "source": [
    "---\n",
    "### Construindo o modelo"
   ]
  },
  {
   "cell_type": "markdown",
   "metadata": {},
   "source": [
    "#### Definição dos hiperparametros"
   ]
  },
  {
   "cell_type": "code",
   "execution_count": 34,
   "metadata": {},
   "outputs": [
    {
     "name": "stdout",
     "output_type": "stream",
     "text": [
      "[-1.24960455e+06 -2.14307360e+05 -5.08945670e-02]\n"
     ]
    }
   ],
   "source": [
    "from sklearn.linear_model import LinearRegression, Lasso\n",
    "from sklearn.model_selection import cross_validate\n",
    "# from sklearn.metrics import mean_absolute_error, mean_squared_error\n",
    "\n",
    "model = LinearRegression()\n",
    "cv_results = cross_validate(model, X=X, y=y, cv=3, n_jobs=-1, return_train_score=True, \n",
    "    scoring=('neg_mean_absolute_error', 'neg_mean_squared_error'))\n",
    "print(cv_results['test_neg_mean_absolute_error'])"
   ]
  },
  {
   "cell_type": "code",
   "execution_count": 24,
   "metadata": {},
   "outputs": [
    {
     "data": {
      "text/plain": [
       "['accuracy',\n",
       " 'adjusted_mutual_info_score',\n",
       " 'adjusted_rand_score',\n",
       " 'average_precision',\n",
       " 'balanced_accuracy',\n",
       " 'completeness_score',\n",
       " 'explained_variance',\n",
       " 'f1',\n",
       " 'f1_macro',\n",
       " 'f1_micro',\n",
       " 'f1_samples',\n",
       " 'f1_weighted',\n",
       " 'fowlkes_mallows_score',\n",
       " 'homogeneity_score',\n",
       " 'jaccard',\n",
       " 'jaccard_macro',\n",
       " 'jaccard_micro',\n",
       " 'jaccard_samples',\n",
       " 'jaccard_weighted',\n",
       " 'matthews_corrcoef',\n",
       " 'max_error',\n",
       " 'mutual_info_score',\n",
       " 'neg_brier_score',\n",
       " 'neg_log_loss',\n",
       " 'neg_mean_absolute_error',\n",
       " 'neg_mean_absolute_percentage_error',\n",
       " 'neg_mean_gamma_deviance',\n",
       " 'neg_mean_poisson_deviance',\n",
       " 'neg_mean_squared_error',\n",
       " 'neg_mean_squared_log_error',\n",
       " 'neg_median_absolute_error',\n",
       " 'neg_root_mean_squared_error',\n",
       " 'normalized_mutual_info_score',\n",
       " 'precision',\n",
       " 'precision_macro',\n",
       " 'precision_micro',\n",
       " 'precision_samples',\n",
       " 'precision_weighted',\n",
       " 'r2',\n",
       " 'rand_score',\n",
       " 'recall',\n",
       " 'recall_macro',\n",
       " 'recall_micro',\n",
       " 'recall_samples',\n",
       " 'recall_weighted',\n",
       " 'roc_auc',\n",
       " 'roc_auc_ovo',\n",
       " 'roc_auc_ovo_weighted',\n",
       " 'roc_auc_ovr',\n",
       " 'roc_auc_ovr_weighted',\n",
       " 'top_k_accuracy',\n",
       " 'v_measure_score']"
      ]
     },
     "execution_count": 24,
     "metadata": {},
     "output_type": "execute_result"
    }
   ],
   "source": [
    "import sklearn\n",
    "sklearn.metrics.get_scorer_names()"
   ]
  },
  {
   "cell_type": "markdown",
   "metadata": {},
   "source": [
    "#### Definição das métricas de validação"
   ]
  },
  {
   "cell_type": "markdown",
   "metadata": {},
   "source": [
    "---\n",
    "### Aplicação do Modelo"
   ]
  },
  {
   "cell_type": "markdown",
   "metadata": {},
   "source": [
    "#### Treino"
   ]
  },
  {
   "cell_type": "markdown",
   "metadata": {},
   "source": [
    "#### Teste"
   ]
  }
 ],
 "metadata": {
  "interpreter": {
   "hash": "768d602f9fe62f681d8112ce1692dee7a1922481e6524dbea5a88c0fa56d97fa"
  },
  "kernelspec": {
   "display_name": "Python 3.9.12 ('aprendizado-maquina')",
   "language": "python",
   "name": "python3"
  },
  "language_info": {
   "codemirror_mode": {
    "name": "ipython",
    "version": 3
   },
   "file_extension": ".py",
   "mimetype": "text/x-python",
   "name": "python",
   "nbconvert_exporter": "python",
   "pygments_lexer": "ipython3",
   "version": "3.9.12"
  },
  "orig_nbformat": 4
 },
 "nbformat": 4,
 "nbformat_minor": 2
}
