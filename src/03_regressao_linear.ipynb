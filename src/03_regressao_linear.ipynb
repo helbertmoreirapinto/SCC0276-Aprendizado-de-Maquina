{
 "cells": [
  {
   "cell_type": "markdown",
   "metadata": {},
   "source": [
    "---\n",
    "### Preparando os dados"
   ]
  },
  {
   "cell_type": "markdown",
   "metadata": {},
   "source": [
    "#### Import da base com todas as variáveis"
   ]
  },
  {
   "cell_type": "code",
   "execution_count": 1,
   "metadata": {},
   "outputs": [
    {
     "data": {
      "text/html": [
       "<div>\n",
       "<style scoped>\n",
       "    .dataframe tbody tr th:only-of-type {\n",
       "        vertical-align: middle;\n",
       "    }\n",
       "\n",
       "    .dataframe tbody tr th {\n",
       "        vertical-align: top;\n",
       "    }\n",
       "\n",
       "    .dataframe thead th {\n",
       "        text-align: right;\n",
       "    }\n",
       "</style>\n",
       "<table border=\"1\" class=\"dataframe\">\n",
       "  <thead>\n",
       "    <tr style=\"text-align: right;\">\n",
       "      <th></th>\n",
       "      <th>no_entidade</th>\n",
       "      <th>nota enem</th>\n",
       "    </tr>\n",
       "  </thead>\n",
       "  <tbody>\n",
       "    <tr>\n",
       "      <th>11024968</th>\n",
       "      <td>EEEMTI JUSCELINO KUBITSCHEK DE OLIVEIRA</td>\n",
       "      <td>539.94</td>\n",
       "    </tr>\n",
       "    <tr>\n",
       "      <th>11025638</th>\n",
       "      <td>EEEFM PADRE EZEQUIEL RAMIN</td>\n",
       "      <td>485.33</td>\n",
       "    </tr>\n",
       "    <tr>\n",
       "      <th>11006773</th>\n",
       "      <td>EEEFM CORA CORALINA</td>\n",
       "      <td>479.49</td>\n",
       "    </tr>\n",
       "    <tr>\n",
       "      <th>11006889</th>\n",
       "      <td>EEEFM ANISIO TEIXEIRA</td>\n",
       "      <td>468.94</td>\n",
       "    </tr>\n",
       "    <tr>\n",
       "      <th>11007168</th>\n",
       "      <td>COLEGIO TIRADENTES DA POLICIA MILITAR - CTPM III</td>\n",
       "      <td>482.38</td>\n",
       "    </tr>\n",
       "  </tbody>\n",
       "</table>\n",
       "</div>"
      ],
      "text/plain": [
       "                                               no_entidade  nota enem\n",
       "11024968           EEEMTI JUSCELINO KUBITSCHEK DE OLIVEIRA     539.94\n",
       "11025638                        EEEFM PADRE EZEQUIEL RAMIN     485.33\n",
       "11006773                               EEEFM CORA CORALINA     479.49\n",
       "11006889                             EEEFM ANISIO TEIXEIRA     468.94\n",
       "11007168  COLEGIO TIRADENTES DA POLICIA MILITAR - CTPM III     482.38"
      ]
     },
     "execution_count": 1,
     "metadata": {},
     "output_type": "execute_result"
    }
   ],
   "source": [
    "import pandas as pd\n",
    "\n",
    "df = pd.read_csv('dados/final.csv',index_col=0)\n",
    "df[['no_entidade','nota enem']].head()"
   ]
  },
  {
   "cell_type": "markdown",
   "metadata": {},
   "source": [
    "#### Tratarmento de colunas categoricas"
   ]
  },
  {
   "cell_type": "code",
   "execution_count": 2,
   "metadata": {},
   "outputs": [
    {
     "name": "stdout",
     "output_type": "stream",
     "text": [
      "<class 'pandas.core.frame.DataFrame'>\n",
      "Int64Index: 19022 entries, 11024968 to 53082001\n",
      "Columns: 187 entries, co_regiao to nota enem\n",
      "dtypes: float64(14), int64(48), object(125)\n",
      "memory usage: 27.3+ MB\n"
     ]
    }
   ],
   "source": [
    "df.info()"
   ]
  },
  {
   "cell_type": "markdown",
   "metadata": {},
   "source": [
    "##### Informações de localização"
   ]
  },
  {
   "cell_type": "markdown",
   "metadata": {},
   "source": [
    "Como temos Indice de Nivel Socioeconomico (INSE) por escola, achamos que informações relacionadas à localização não sejam relavantes, pois fatores relacionado ao desenvolvimento do municipio já foi levado em consideração no calculo do indicador."
   ]
  },
  {
   "cell_type": "code",
   "execution_count": 3,
   "metadata": {},
   "outputs": [
    {
     "name": "stdout",
     "output_type": "stream",
     "text": [
      "<class 'pandas.core.frame.DataFrame'>\n",
      "Int64Index: 19022 entries, 11024968 to 53082001\n",
      "Columns: 182 entries, no_entidade to nota enem\n",
      "dtypes: float64(14), int64(43), object(125)\n",
      "memory usage: 26.6+ MB\n"
     ]
    }
   ],
   "source": [
    "cols_localizacao = ['co_regiao','co_uf','co_municipio','co_mesorregiao','co_microrregiao']\n",
    "df.drop(columns=cols_localizacao, inplace=True)\n",
    "df.info()"
   ]
  },
  {
   "cell_type": "markdown",
   "metadata": {},
   "source": [
    "##### Indicadores de presença de equipamentos"
   ]
  },
  {
   "cell_type": "code",
   "execution_count": 4,
   "metadata": {},
   "outputs": [
    {
     "name": "stdout",
     "output_type": "stream",
     "text": [
      "<class 'pandas.core.frame.DataFrame'>\n",
      "Int64Index: 19022 entries, 11024968 to 53082001\n",
      "Columns: 182 entries, no_entidade to nota enem\n",
      "dtypes: category(21), float64(14), int64(43), object(104)\n",
      "memory usage: 23.9+ MB\n"
     ]
    }
   ],
   "source": [
    "cols_in_equipamentos = [\n",
    "    'in_internet','in_internet_alunos','in_internet_administrativo','in_internet_aprendizagem',\n",
    "    'in_internet_comunidade','in_acesso_internet_computador','in_aces_internet_disp_pessoais',\n",
    "    'in_equip_scanner','in_banda_larga','in_material_ped_multimidia','in_material_ped_infantil',\n",
    "    'in_material_ped_cientifico','in_material_ped_difusao','in_material_ped_musical',\n",
    "    'in_material_ped_jogos','in_material_ped_artisticas','in_material_ped_desportiva',\n",
    "    'in_material_ped_indigena','in_material_ped_etnico','in_material_ped_campo','tp_rede_local'\n",
    "]\n",
    "df[cols_in_equipamentos] = df[cols_in_equipamentos].astype('category')\n",
    "df.info()"
   ]
  },
  {
   "cell_type": "markdown",
   "metadata": {},
   "source": [
    "##### Indicadores relacionados à estrutura"
   ]
  },
  {
   "cell_type": "code",
   "execution_count": 5,
   "metadata": {},
   "outputs": [
    {
     "name": "stdout",
     "output_type": "stream",
     "text": [
      "<class 'pandas.core.frame.DataFrame'>\n",
      "Int64Index: 19022 entries, 11024968 to 53082001\n",
      "Columns: 182 entries, no_entidade to nota enem\n",
      "dtypes: category(79), float64(14), int64(43), object(46)\n",
      "memory usage: 16.5+ MB\n"
     ]
    }
   ],
   "source": [
    "cols_in_estrutura = [\n",
    "    'in_vinculo_secretaria_educacao','in_vinculo_seguranca_publica','in_vinculo_secretaria_saude',\n",
    "    'in_vinculo_outro_orgao','in_conveniada_pp','in_mant_escola_privada_emp','in_mant_escola_privada_ong',\n",
    "    'in_mant_escola_privada_oscip','in_mant_escola_priv_ong_oscip','in_mant_escola_privada_sind',\n",
    "    'in_mant_escola_privada_sist_s','in_mant_escola_privada_s_fins','in_local_func_predio_escolar',\n",
    "    'in_local_func_socioeducativo','in_local_func_unid_prisional','in_local_func_prisional_socio',\n",
    "    'in_local_func_galpao','in_local_func_salas_outra_esc','in_local_func_outros','in_predio_compartilhado',\n",
    "    'in_agua_potavel','in_energia_rede_publica','in_esgoto_rede_publica','in_almoxarifado','in_area_verde',\n",
    "    'in_auditorio','in_banheiro','in_banheiro_funcionarios','in_banheiro_chuveiro','in_biblioteca',\n",
    "    'in_biblioteca_sala_leitura','in_cozinha','in_dormitorio_aluno','in_dormitorio_professor',\n",
    "    'in_laboratorio_ciencias','in_laboratorio_informatica','in_parque_infantil','in_piscina','in_quadra_esportes',\n",
    "    'in_refeitorio','in_sala_atelie_artes','in_sala_musica_coral','in_sala_estudio_danca','in_sala_multiuso',\n",
    "    'in_sala_diretoria','in_sala_leitura','in_sala_professor','in_sala_repouso_aluno','in_secretaria',\n",
    "    'in_terreirao','in_viveiro','in_dependencias_outras','in_alimentacao','tp_categoria_escola_privada',\n",
    "    'tp_localizacao','tp_localizacao_diferenciada','tp_ocupacao_galpao','tp_ocupacao_predio_escolar'\n",
    "]\n",
    "df[cols_in_estrutura] = df[cols_in_estrutura].astype('category')\n",
    "df.info()"
   ]
  },
  {
   "cell_type": "markdown",
   "metadata": {},
   "source": [
    "##### Indicadores relacionados à administração"
   ]
  },
  {
   "cell_type": "code",
   "execution_count": 6,
   "metadata": {},
   "outputs": [
    {
     "name": "stdout",
     "output_type": "stream",
     "text": [
      "<class 'pandas.core.frame.DataFrame'>\n",
      "Int64Index: 19022 entries, 11024968 to 53082001\n",
      "Columns: 182 entries, no_entidade to nota enem\n",
      "dtypes: category(124), float64(14), int64(43), object(1)\n",
      "memory usage: 10.8+ MB\n"
     ]
    }
   ],
   "source": [
    "cols_in_administracao = [\n",
    "    'in_serie_ano','in_periodos_semestrais','in_fundamental_ciclos','in_grupos_nao_seriados',\n",
    "    'in_modulos','in_formacao_alternancia','in_educacao_indigena','in_exame_selecao','in_reserva_ppi',\n",
    "    'in_reserva_renda','in_reserva_publica','in_reserva_pcd','in_reserva_outros','in_reserva_nenhuma',\n",
    "    'in_redes_sociais','in_espaco_atividade','in_espaco_equipamento','in_orgao_ass_pais',\n",
    "    'in_orgao_ass_pais_mestres','in_orgao_conselho_escolar','in_orgao_gremio_estudantil','in_orgao_outros',\n",
    "    'in_orgao_nenhum','in_diurno','in_noturno','in_ead','in_bas','in_inf','in_inf_cre','in_inf_pre',\n",
    "    'in_fund','in_fund_ai','in_fund_af','in_med','in_prof','in_prof_tec','in_eja','in_eja_fund','in_eja_med',\n",
    "    'in_esp','in_esp_cc','in_esp_ce','tp_convenio_poder_publico','tp_dependencia','tp_lingua'\n",
    "]\n",
    "df[cols_in_administracao] = df[cols_in_administracao].astype('category')\n",
    "df.info()"
   ]
  },
  {
   "cell_type": "markdown",
   "metadata": {},
   "source": [
    "##### Demais colunas não categoricas/numéricas"
   ]
  },
  {
   "cell_type": "markdown",
   "metadata": {},
   "source": [
    "O nome da escola não é relevante para determinar qual nota no ENEM a escola obteve, portanto iremos removê-la do nosso dataset."
   ]
  },
  {
   "cell_type": "code",
   "execution_count": 7,
   "metadata": {},
   "outputs": [
    {
     "name": "stdout",
     "output_type": "stream",
     "text": [
      "<class 'pandas.core.frame.DataFrame'>\n",
      "Int64Index: 19022 entries, 11024968 to 53082001\n",
      "Columns: 181 entries, tp_dependencia to nota enem\n",
      "dtypes: category(124), float64(14), int64(43)\n",
      "memory usage: 10.7 MB\n"
     ]
    }
   ],
   "source": [
    "df.drop(columns='no_entidade',inplace=True)\n",
    "df.info()"
   ]
  },
  {
   "cell_type": "markdown",
   "metadata": {},
   "source": [
    "##### Variáveis categoricas para numericas"
   ]
  },
  {
   "cell_type": "code",
   "execution_count": 8,
   "metadata": {},
   "outputs": [
    {
     "name": "stdout",
     "output_type": "stream",
     "text": [
      "<class 'pandas.core.frame.DataFrame'>\n",
      "Int64Index: 19022 entries, 11024968 to 53082001\n",
      "Columns: 219 entries, qt_salas_utilizadas to tp_lingua_portugues\n",
      "dtypes: float64(14), int64(43), uint8(162)\n",
      "memory usage: 11.4 MB\n"
     ]
    }
   ],
   "source": [
    "df = pd.get_dummies(df, drop_first=True)\n",
    "df.info()"
   ]
  },
  {
   "cell_type": "markdown",
   "metadata": {},
   "source": [
    "#### Divisão Variáveis Explicativas / Variável Resposta"
   ]
  },
  {
   "cell_type": "code",
   "execution_count": 9,
   "metadata": {},
   "outputs": [
    {
     "name": "stdout",
     "output_type": "stream",
     "text": [
      "(19022, 218) (19022, 1)\n"
     ]
    }
   ],
   "source": [
    "import numpy as np\n",
    "df = df.sample(frac=1)\n",
    "y = df[['nota enem']]\n",
    "X = df.drop(columns=['nota enem'])\n",
    "\n",
    "print(X.shape, y.shape)"
   ]
  },
  {
   "cell_type": "code",
   "execution_count": 10,
   "metadata": {},
   "outputs": [
    {
     "name": "stdout",
     "output_type": "stream",
     "text": [
      "Index(['qt_salas_utilizadas', 'qt_salas_utiliza_climatizadas', 'qt_equip_dvd',\n",
      "       'qt_equip_som', 'qt_equip_tv', 'qt_equip_lousa_digital',\n",
      "       'qt_equip_multimidia', 'qt_desktop_aluno', 'qt_comp_portatil_aluno',\n",
      "       'qt_tablet_aluno',\n",
      "       ...\n",
      "       'in_prof_sim', 'in_prof_tec_sim', 'in_eja_sim', 'in_eja_fund_sim',\n",
      "       'in_eja_med_sim', 'in_esp_sim', 'in_esp_cc_sim', 'in_esp_ce_sim',\n",
      "       'tp_lingua_indigena', 'tp_lingua_portugues'],\n",
      "      dtype='object', length=218)\n"
     ]
    }
   ],
   "source": [
    "pd.options.display.max_columns = 300\n",
    "print(X.columns)"
   ]
  },
  {
   "cell_type": "markdown",
   "metadata": {},
   "source": [
    "#### Normalização"
   ]
  },
  {
   "cell_type": "markdown",
   "metadata": {},
   "source": [
    "Como nossos dados possuem valores considerados outlier, e não esses outliers podem indicar algum tipo de relação, decidimos utilizar o RobustScaler para realizar a normalização."
   ]
  },
  {
   "cell_type": "code",
   "execution_count": 11,
   "metadata": {},
   "outputs": [
    {
     "name": "stdout",
     "output_type": "stream",
     "text": [
      "(19022, 218) (19022, 1)\n"
     ]
    }
   ],
   "source": [
    "from sklearn.preprocessing import RobustScaler\n",
    "\n",
    "scaler_X, scaler_y = RobustScaler(), RobustScaler()\n",
    "scaler_X.fit(X)\n",
    "scaler_y.fit(y)\n",
    "\n",
    "X_norm, y_norm = scaler_X.transform(X), scaler_y.transform(y)\n",
    "X, y = pd.DataFrame(X_norm, columns=X.columns), pd.DataFrame(y_norm, columns=y.columns)\n",
    "\n",
    "X, y = np.array(X), np.array(y)\n",
    "print(X.shape, y.shape)"
   ]
  },
  {
   "cell_type": "markdown",
   "metadata": {},
   "source": [
    "#### Divisão Treino / Teste"
   ]
  },
  {
   "cell_type": "code",
   "execution_count": 12,
   "metadata": {},
   "outputs": [
    {
     "name": "stdout",
     "output_type": "stream",
     "text": [
      "Dados Treino (13315, 218) (13315, 1)\n",
      "Dados Teste (5707, 218) (5707, 1)\n"
     ]
    }
   ],
   "source": [
    "from sklearn.model_selection import train_test_split\n",
    "\n",
    "X_train, X_test, y_train, y_test = train_test_split(X, y, shuffle=True, train_size=0.7, random_state=42)\n",
    "print('Dados Treino', X_train.shape, y_train.shape)\n",
    "print('Dados Teste', X_test.shape, y_test.shape)"
   ]
  },
  {
   "cell_type": "markdown",
   "metadata": {},
   "source": [
    "---\n",
    "### Modelo - Ridge"
   ]
  },
  {
   "cell_type": "code",
   "execution_count": 13,
   "metadata": {},
   "outputs": [
    {
     "name": "stdout",
     "output_type": "stream",
     "text": [
      "MAE:0.3091003963736741    MSE:0.16826333367824153\n"
     ]
    }
   ],
   "source": [
    "from sklearn.linear_model import Ridge\n",
    "from sklearn.metrics import mean_absolute_error, mean_squared_error\n",
    "\n",
    "model = Ridge()\n",
    "model.fit(X_train, y_train)\n",
    "\n",
    "y_pred = model.predict(X_test)\n",
    "MAE = mean_absolute_error(y_pred=y_pred, y_true=y_test)\n",
    "MSE = mean_squared_error(y_pred=y_pred, y_true=y_test)\n",
    "print(f'MAE:{MAE}    MSE:{MSE}')"
   ]
  },
  {
   "cell_type": "code",
   "execution_count": 14,
   "metadata": {},
   "outputs": [
    {
     "name": "stdout",
     "output_type": "stream",
     "text": [
      "[-0.30870251 -0.30755732 -0.30150865 -0.30905349 -0.3063201  -0.30431351\n",
      " -0.29832507 -0.37438463 -0.29996835 -0.31852366]\n",
      "[-0.16818195 -0.1662399  -0.16178907 -0.16971887 -0.166635   -0.16251526\n",
      " -0.15703612 -8.62364859 -0.16144477 -0.17977164]\n"
     ]
    }
   ],
   "source": [
    "from sklearn.linear_model import Ridge\n",
    "from sklearn.model_selection import cross_validate\n",
    "\n",
    "model = Ridge()\n",
    "cv_results = cross_validate(estimator=model, X=X, y=y, cv=10, n_jobs=-1, return_train_score=True, \n",
    "    scoring=('neg_mean_absolute_error', 'neg_mean_squared_error'))\n",
    "\n",
    "print(cv_results['test_neg_mean_absolute_error'])\n",
    "print(cv_results['test_neg_mean_squared_error'])"
   ]
  },
  {
   "cell_type": "markdown",
   "metadata": {},
   "source": [
    "---\n",
    "### Elastic Net"
   ]
  },
  {
   "cell_type": "code",
   "execution_count": 15,
   "metadata": {},
   "outputs": [
    {
     "name": "stdout",
     "output_type": "stream",
     "text": [
      "MAE:0.6340671173467074    MSE:0.6715513279096137\n",
      "Index(['qt_equip_multimidia', 'qt_comp_portatil_aluno', 'qt_tablet_aluno',\n",
      "       'qt_prof_administrativos', 'qt_prof_bibliotecario', 'qt_prof_saude',\n",
      "       'qt_prof_seguranca', 'qt_prof_monitores', 'qt_doc_eja', 'qt_tur_prof',\n",
      "       'qt_tur_prof_tec'],\n",
      "      dtype='object')\n",
      "Indices das variaveis com coeficientes não zerados {}\n"
     ]
    }
   ],
   "source": [
    "from sklearn.linear_model import ElasticNet\n",
    "from sklearn.metrics import mean_absolute_error, mean_squared_error\n",
    "\n",
    "model = ElasticNet()\n",
    "model.fit(X_train, y_train)\n",
    "\n",
    "y_pred = model.predict(X_test)\n",
    "MAE = mean_absolute_error(y_pred=y_pred, y_true=y_test)\n",
    "MSE = mean_squared_error(y_pred=y_pred, y_true=y_test)\n",
    "print(f'MAE:{MAE}    MSE:{MSE}')\n",
    "\n",
    "print(df.columns[np.where(np.abs(model.coef_) > 0)])\n",
    "print('Indices das variaveis com coeficientes não zerados {}')"
   ]
  },
  {
   "cell_type": "code",
   "execution_count": 16,
   "metadata": {},
   "outputs": [
    {
     "name": "stdout",
     "output_type": "stream",
     "text": [
      "[-0.63528205 -0.64658859 -0.64570349 -0.63387269 -0.62065759 -0.65172926\n",
      " -0.64901696 -0.63139226 -0.64798782 -0.63181296]\n",
      "[-0.67242609 -0.69727891 -0.69000536 -0.6784393  -0.65480552 -0.70244431\n",
      " -0.70367381 -0.65586073 -0.70963795 -0.66961076]\n"
     ]
    }
   ],
   "source": [
    "from sklearn.linear_model import ElasticNet\n",
    "from sklearn.model_selection import cross_validate\n",
    "\n",
    "model = ElasticNet()\n",
    "cv_results = cross_validate(estimator=model, X=X, y=y, cv=10, n_jobs=-1, return_train_score=True, \n",
    "    scoring=('neg_mean_absolute_error', 'neg_mean_squared_error'))\n",
    "\n",
    "print(cv_results['test_neg_mean_absolute_error'])\n",
    "print(cv_results['test_neg_mean_squared_error'])"
   ]
  },
  {
   "cell_type": "markdown",
   "metadata": {},
   "source": [
    "---\n",
    "### Modelo - Lasso"
   ]
  },
  {
   "cell_type": "code",
   "execution_count": 17,
   "metadata": {},
   "outputs": [
    {
     "name": "stdout",
     "output_type": "stream",
     "text": [
      "MAE:0.6622400656751583    MSE:0.7269161315309982\n",
      "Index(['qt_comp_portatil_aluno', 'qt_tablet_aluno', 'qt_prof_saude',\n",
      "       'qt_prof_seguranca', 'qt_prof_monitores', 'qt_doc_eja'],\n",
      "      dtype='object')\n",
      "Indices das variaveis com coeficientes não zerados {}\n"
     ]
    }
   ],
   "source": [
    "from sklearn.linear_model import Lasso\n",
    "from sklearn.metrics import mean_absolute_error, mean_squared_error\n",
    "\n",
    "model = Lasso()\n",
    "model.fit(X_train, y_train)\n",
    "\n",
    "y_pred = model.predict(X_test)\n",
    "MAE = mean_absolute_error(y_pred=y_pred, y_true=y_test)\n",
    "MSE = mean_squared_error(y_pred=y_pred, y_true=y_test)\n",
    "print(f'MAE:{MAE}    MSE:{MSE}')\n",
    "\n",
    "print(df.columns[np.where(np.abs(model.coef_) > 0)])\n",
    "print('Indices das variaveis com coeficientes não zerados {}')"
   ]
  },
  {
   "cell_type": "code",
   "execution_count": 18,
   "metadata": {},
   "outputs": [
    {
     "name": "stdout",
     "output_type": "stream",
     "text": [
      "[-0.63528205 -0.64658859 -0.64570349 -0.63387269 -0.62065759 -0.65172926\n",
      " -0.64901696 -0.63139226 -0.64798782 -0.63181296]\n",
      "[-0.67242609 -0.69727891 -0.69000536 -0.6784393  -0.65480552 -0.70244431\n",
      " -0.70367381 -0.65586073 -0.70963795 -0.66961076]\n"
     ]
    }
   ],
   "source": [
    "from sklearn.linear_model import ElasticNet\n",
    "from sklearn.model_selection import cross_validate\n",
    "\n",
    "model = ElasticNet()\n",
    "cv_results = cross_validate(estimator=model, X=X, y=y, cv=10, n_jobs=-1, return_train_score=True, \n",
    "    scoring=('neg_mean_absolute_error', 'neg_mean_squared_error'))\n",
    "\n",
    "print(cv_results['test_neg_mean_absolute_error'])\n",
    "print(cv_results['test_neg_mean_squared_error'])"
   ]
  },
  {
   "cell_type": "markdown",
   "metadata": {},
   "source": [
    "---\n",
    "### Modelo - Regressão Linear"
   ]
  },
  {
   "cell_type": "code",
   "execution_count": 19,
   "metadata": {},
   "outputs": [
    {
     "name": "stdout",
     "output_type": "stream",
     "text": [
      "MAE:0.30936575252671494    MSE:0.1685665296648453\n"
     ]
    }
   ],
   "source": [
    "from sklearn.linear_model import LinearRegression\n",
    "from sklearn.metrics import mean_absolute_error, mean_squared_error\n",
    "\n",
    "model = LinearRegression()\n",
    "model.fit(X_train, y_train)\n",
    "\n",
    "y_pred = model.predict(X_test)\n",
    "MAE = mean_absolute_error(y_pred=y_pred, y_true=y_test)\n",
    "MSE = mean_squared_error(y_pred=y_pred, y_true=y_test)\n",
    "\n",
    "print(f'MAE:{MAE}    MSE:{MSE}')"
   ]
  },
  {
   "cell_type": "code",
   "execution_count": 20,
   "metadata": {},
   "outputs": [
    {
     "name": "stdout",
     "output_type": "stream",
     "text": [
      "[-0.30892861 -0.30764879 -0.30150855 -0.30935503 -0.30649673 -0.30445288\n",
      " -0.29844124 -0.37446353 -0.30000784 -0.31850162]\n",
      "[-0.16840096 -0.16650002 -0.16181708 -0.1702832  -0.16680112 -0.16263533\n",
      " -0.15713629 -8.62301687 -0.16158797 -0.17969304]\n"
     ]
    }
   ],
   "source": [
    "from sklearn.linear_model import LinearRegression\n",
    "from sklearn.model_selection import cross_validate\n",
    "\n",
    "model = LinearRegression()\n",
    "cv_results = cross_validate(estimator=model, X=X, y=y, cv=10, n_jobs=-1, return_train_score=True, \n",
    "    scoring=('neg_mean_absolute_error', 'neg_mean_squared_error'))\n",
    "\n",
    "print(cv_results['test_neg_mean_absolute_error'])\n",
    "print(cv_results['test_neg_mean_squared_error'])"
   ]
  }
 ],
 "metadata": {
  "interpreter": {
   "hash": "768d602f9fe62f681d8112ce1692dee7a1922481e6524dbea5a88c0fa56d97fa"
  },
  "kernelspec": {
   "display_name": "Python 3.9.12 ('aprendizado-maquina')",
   "language": "python",
   "name": "python3"
  },
  "language_info": {
   "codemirror_mode": {
    "name": "ipython",
    "version": 3
   },
   "file_extension": ".py",
   "mimetype": "text/x-python",
   "name": "python",
   "nbconvert_exporter": "python",
   "pygments_lexer": "ipython3",
   "version": "3.9.12"
  },
  "orig_nbformat": 4
 },
 "nbformat": 4,
 "nbformat_minor": 2
}
